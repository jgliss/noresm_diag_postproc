{
 "cells": [
  {
   "cell_type": "markdown",
   "metadata": {
    "extensions": {
     "jupyter_dashboards": {
      "version": 1,
      "views": {
       "grid_default": {
        "col": 0,
        "height": 4,
        "hidden": false,
        "row": 8,
        "width": 4
       },
       "report_default": {
        "hidden": false
       }
      }
     }
    }
   },
   "source": [
    "## Reading and analysis of NorESM CAM diagnostics files\n",
    "\n",
    "This notebook provides an interface to read, structure and analyse CAM diagnostics files (see e.g. [here](https://github.com/jgliss/my_notebooks/blob/master/data/from_ada/table_GLBL_ANN_obs.asc)) in order to highlight performance of the model runs with respect to each other, relative to observation data.\n",
    "\n",
    "### Short summary of what this notebook does\n",
    "\n",
    "In this notebook, a number of CAM diagnostics files is imported and put into one large table (in the following denoted as \\\\(\\mathcal{T}\\\\)). This table is modified and reshaped in order to create heatmap plots of different variables (e.g. Bias, RMSE) for a set of predefined variables (e.g. fluxes) that are aimed to provide an intuitive display of model performance between individual runs.\n",
    "\n",
    "#### Result file structure\n",
    "\n",
    "The tables in each file contain the following \\\\(K=4\\\\) data columns (in the specified order):\n",
    "\n",
    "1. Model value\n",
    "2. Observation value\n",
    "3. Bias (1. - 2.)\n",
    "4. RMSE\n",
    "\n",
    "and a total of \\\\(M=63\\\\) rows for each of the diagnostics variables (e.g. RESTOM, RESSURF, ..., Z3_500_NCEP).\n",
    "\n",
    "#### Goal / Purpose / Steps\n",
    "\n",
    "1. **Read**: Read \\\\(N\\\\) CAM diagnostics files (one for each of \\\\(N\\\\) model runs), each of which contains \\\\(M=63\\\\) variables (rows). \n",
    "2. **Merge** the individual tables for each file into a single long table. This results in a long table with a total of \\\\(N\\cdot M\\\\) rows and \\\\(K=4\\\\) data columns (Model value, Obs value, Bias, RMSE, see above). Shape of \\\\(\\mathcal{T} = (N\\cdot M) \\times K\\\\)\n",
    "3. **Compute and add column to \\\\(\\mathcal{T}\\\\)**: in current version the typical RMSE error is computed and added. New shape of \\\\(\\mathcal{T} = (N\\cdot M) \\times (K+1)\\\\)\n",
    "4. **Reduce variable dimensionality**: Select a group of \\\\(m\\\\) variables (where \\\\(m<M\\\\)) that you are interested in (e.g. fluxes). New shape of \\\\(\\mathcal{T} = (N\\cdot m) \\times (K+1)\\\\)\n",
    "5. Define \\\\(k\\\\) data columns, that you are interested in (e.g. Bias, RMSE).\n",
    "4. For each of the \\\\(k\\\\) columns do the following:\n",
    "\n",
    "    4.1. **Extract column** \\\\(k\\\\) from \\\\(\\mathcal{T}\\\\). Results in sub-table of shape \\\\(\\mathcal{T_{sub}}(k) = (N\\cdot m) \\times 1\\\\). \n",
    "    \n",
    "    ***NOTE***: this is a very long table (e.g. if you are interested in \\\\(m=10\\\\) variables and \\\\(N=20\\\\) model runs, you will end up with ***200*** rows and a single column) ***with only only 1 column*** . Thus, the sub-tables for each of the \\\\(k\\\\) columns will be rearranged into a more by adding parts of the index (rows) into a column representation. For instance, you can rearrange each \\\\(\\mathcal{T_{sub}}(k)\\\\) such, that the variables of your group remain in a row representation but the individual runs are *unstacked* into a column representation, making the table wider (e.g. shape of \\\\(\\mathcal{T_{sub}} = (N\\cdot m) \\times 1 \\rightarrow N \\times m\\\\), hence, resulting in a more rectangular shape of the sub-table that can then be plotted as a heatmap.\n",
    "    \n",
    "    4.2. **Plot and save heatmap**: in the final step, each of the rearranged sub-tables for the \\\\(k\\\\) columns of interest will be plotted as heatmap and stored as image or vector file. \n",
    "\n",
    "#### Import of multiple files\n",
    "\n",
    "The files are read subsequently and put into a long table that contains an hierarchical index ([see here for details](https://pandas.pydata.org/pandas-docs/stable/advanced.html)) in the order:\n",
    "\n",
    "1. Run ID (e.g. N1850_f19_tn14_r227_ctrl)\n",
    "2. Years of run (e.g. yrs 310-340)\n",
    "3. Variable ID\n",
    "4. Variable description \n",
    "\n",
    "\\* note that 3. and 4. are linked to each other (i.e. 4. is irrelevant for the index but is included for display purposes, i.e. to have a short info about the variable in the display, next to the variable ID).\n",
    "\n",
    "#### Execution of notebook\n",
    "\n",
    "1. Please follow the instructions in Sect. 1 and update were necessary\n",
    "2. Everything from Sect. 2. should run through and you should find the output figures in the output directory that you specify in Sect. 1.1."
   ]
  },
  {
   "cell_type": "markdown",
   "metadata": {},
   "source": [
    "Starting with some relevant imports"
   ]
  },
  {
   "cell_type": "code",
   "execution_count": 1,
   "metadata": {
    "extensions": {
     "jupyter_dashboards": {
      "version": 1,
      "views": {
       "grid_default": {
        "hidden": true
       },
       "report_default": {
        "hidden": true
       }
      }
     }
    }
   },
   "outputs": [],
   "source": [
    "import helper_funcs as helpers #helper functions (helper_funcs.py)\n",
    "from glob import glob #for file search\n",
    "import os"
   ]
  },
  {
   "cell_type": "markdown",
   "metadata": {
    "extensions": {
     "jupyter_dashboards": {
      "version": 1,
      "views": {
       "grid_default": {
        "col": 4,
        "height": 4,
        "hidden": false,
        "row": 0,
        "width": 4
       },
       "report_default": {
        "hidden": false
       }
      }
     }
    }
   },
   "source": [
    "### 1. Paths and global settings (GLOB)  \n",
    "\n",
    "Please change accordingly if you execute this notebook on your local machine."
   ]
  },
  {
   "cell_type": "markdown",
   "metadata": {
    "extensions": {
     "jupyter_dashboards": {
      "version": 1,
      "views": {
       "grid_default": {
        "col": 8,
        "height": 4,
        "hidden": false,
        "row": 0,
        "width": 4
       },
       "report_default": {
        "hidden": false
       }
      }
     }
    }
   },
   "source": [
    "#### 1.1. Paths (PATHS)\n",
    "\n",
    "Here you can specify your paths."
   ]
  },
  {
   "cell_type": "code",
   "execution_count": 2,
   "metadata": {
    "extensions": {
     "jupyter_dashboards": {
      "version": 1,
      "views": {
       "grid_default": {
        "hidden": true
       },
       "report_default": {
        "hidden": true
       }
      }
     }
    }
   },
   "outputs": [],
   "source": [
    "#folder with ascii files\n",
    "DATA_DIR = \"./example_data/\"\n",
    "FILE_TYPE = \"webarchive\" #csv\n",
    "\n",
    "# file containing additional information about variables (long names, can be interactively updated below)\n",
    "VARINFO_CSV = \"./config/var_info.csv\"\n",
    "\n",
    "# Config file for different groups\n",
    "VARGROUPS_CFG = \"./config/var_groups.ini\"\n",
    "\n",
    "#directy to store results\n",
    "OUTPUT_DIR = \"./output/\"\n",
    "\n",
    "# make sure output direcory exists\n",
    "if not os.path.exists(OUTPUT_DIR):\n",
    "    os.mkdir(OUTPUT_DIR)"
   ]
  },
  {
   "cell_type": "markdown",
   "metadata": {},
   "source": [
    "#### 1.2. Plot settings (PLOT_SETUP)\n",
    "\n",
    "Specify anything related to the final heatmap plots"
   ]
  },
  {
   "cell_type": "code",
   "execution_count": 3,
   "metadata": {},
   "outputs": [],
   "source": [
    "# figure size in inches and aspect ratio of heatmap plots, \n",
    "# might need to be adjusted dependent on number of runs, selected variables and table reshape settings\n",
    "FIG_SIZE = (12, 6) "
   ]
  },
  {
   "cell_type": "markdown",
   "metadata": {
    "extensions": {
     "jupyter_dashboards": {
      "version": 1,
      "views": {
       "grid_default": {
        "col": 0,
        "height": 4,
        "hidden": false,
        "row": 12,
        "width": 4
       },
       "report_default": {
        "hidden": false
       }
      }
     }
    }
   },
   "source": [
    "#### 1.3 Table settings and definition of variables (SETUP)\n",
    "\n",
    "In the following cells you can specify global default settings."
   ]
  },
  {
   "cell_type": "markdown",
   "metadata": {
    "extensions": {
     "jupyter_dashboards": {
      "version": 1,
      "views": {
       "grid_default": {
        "col": 0,
        "height": 4,
        "hidden": false,
        "row": 16,
        "width": 12
       },
       "report_default": {
        "hidden": false
       }
      }
     }
    }
   },
   "source": [
    "##### 1.3.1 Define group of variables that you are interested in\n",
    "\n",
    "Default group of variables. Variable groups can be defined in supplementary file *var_groups.ini* (in *config* sub-directory of repo). Use ``[group_name]`` to define a new group and add below all variables that should belong to the group in the desired display order (should be self-explanatory when looking at the file, I hope)."
   ]
  },
  {
   "cell_type": "code",
   "execution_count": 4,
   "metadata": {
    "extensions": {
     "jupyter_dashboards": {
      "version": 1,
      "views": {
       "grid_default": {
        "hidden": true
       },
       "report_default": {
        "hidden": true
       }
      }
     }
    }
   },
   "outputs": [],
   "source": [
    "VAR_GROUP = \"fluxes\" #group_name (AS STRING, e.g. \"test\") from varconfig.ini (use None, if you want to use all)"
   ]
  },
  {
   "cell_type": "markdown",
   "metadata": {
    "extensions": {
     "jupyter_dashboards": {
      "version": 1,
      "views": {
       "grid_default": {
        "col": 0,
        "height": 4,
        "hidden": false,
        "row": 20,
        "width": 12
       },
       "report_default": {
        "hidden": false
       }
      }
     }
    }
   },
   "source": [
    "##### 1.3.2 (OPTIONAL): Add data columns to index\n",
    "\n",
    "Use the following list to specify table columns that should be added to the multiindex (e.g. \"Obs\")."
   ]
  },
  {
   "cell_type": "code",
   "execution_count": 5,
   "metadata": {
    "extensions": {
     "jupyter_dashboards": {
      "version": 1,
      "views": {
       "grid_default": {
        "hidden": true
       },
       "report_default": {
        "hidden": true
       }
      }
     }
    }
   },
   "outputs": [],
   "source": [
    "ADD_TO_INDEX = [\"Obs\"] #NEEDS TO BE A LIST, EVEN FOR ONLY ONE ITEM"
   ]
  },
  {
   "cell_type": "markdown",
   "metadata": {
    "extensions": {
     "jupyter_dashboards": {
      "version": 1,
      "views": {
       "grid_default": {
        "col": 0,
        "height": 5,
        "hidden": false,
        "row": 24,
        "width": 12
       },
       "report_default": {
        "hidden": false
       }
      }
     }
    }
   },
   "source": [
    "##### 1.3.3 Define which parts of index should be arranged in a column representation (unstacking)\n",
    "\n",
    "The following list can be used to specify how the final lists are displayed. The items in the list need to be names of sub-indices in the the Multiindex of the originally loaded file (i.e. \"Run\", \"Years\", \"Variable\", \"Description\") or data columns that were added to index (previous option). \n",
    "\n",
    "All values specified here will be unstacked, i.e. put from the original row into a column index representation (makes table view wider)."
   ]
  },
  {
   "cell_type": "code",
   "execution_count": 6,
   "metadata": {
    "extensions": {
     "jupyter_dashboards": {
      "version": 1,
      "views": {
       "grid_default": {
        "hidden": true
       },
       "report_default": {
        "hidden": true
       }
      }
     }
    }
   },
   "outputs": [],
   "source": [
    "UNSTACK_INDICES = [\"Run\", \"Years\"]"
   ]
  },
  {
   "cell_type": "markdown",
   "metadata": {},
   "source": [
    "##### 1.2.4 (OPTIONAL) Define index levels used for computing statistics (i.e. RMSE relative error)\n",
    "\n",
    "Specify list of index level names of the original index that are used to compute the mean RMSE. \n",
    "\n",
    "Default is\n",
    "\n",
    "    [\"Run\", \"Years\"]\n",
    "    \n",
    "meaning that the average RMSE for each variable will be computed based on the set of values retrieved from all files."
   ]
  },
  {
   "cell_type": "code",
   "execution_count": 7,
   "metadata": {},
   "outputs": [],
   "source": [
    "RMSE_STATS = [\"Run\", \"Years\"]"
   ]
  },
  {
   "cell_type": "markdown",
   "metadata": {
    "extensions": {
     "jupyter_dashboards": {
      "version": 1,
      "views": {
       "grid_default": {
        "col": 0,
        "height": 6,
        "hidden": false,
        "row": 29,
        "width": 12
       },
       "report_default": {
        "hidden": false
       }
      }
     }
    }
   },
   "source": [
    "### 2. Importing and editing supplementary information\n",
    "\n",
    "Let's begin with reading additional variable information from the file *var_info.csv*. Note that this is not strictly required but helps us below to display the results in a more intuitive manner, when visualising the data."
   ]
  },
  {
   "cell_type": "code",
   "execution_count": 8,
   "metadata": {
    "extensions": {
     "jupyter_dashboards": {
      "version": 1,
      "views": {
       "grid_default": {
        "hidden": true
       },
       "report_default": {
        "hidden": true
       }
      }
     }
    }
   },
   "outputs": [],
   "source": [
    "VAR_INFO_DICT = helpers.load_varinfo(VARINFO_CSV)"
   ]
  },
  {
   "cell_type": "markdown",
   "metadata": {
    "extensions": {
     "jupyter_dashboards": {
      "version": 1,
      "views": {
       "grid_default": {
        "col": 4,
        "height": 4,
        "hidden": false,
        "row": 4,
        "width": 4
       },
       "report_default": {
        "hidden": false
       }
      }
     }
    }
   },
   "source": [
    "The following cell opens an interactive widget that can be used to edit the information available for each variable (stored in file ``varinfo_csv``, see previous cell)."
   ]
  },
  {
   "cell_type": "markdown",
   "metadata": {
    "extensions": {
     "jupyter_dashboards": {
      "version": 1,
      "views": {
       "grid_default": {
        "col": 0,
        "height": 4,
        "hidden": false,
        "row": 40,
        "width": 12
       },
       "report_default": {
        "hidden": false
       }
      }
     }
    }
   },
   "source": [
    "### 3. Search and load ASCII files, either using .asc or .webarchive file type (GET_FILES)\n",
    "\n",
    "The following cell finds all files in folder ``data_dir``."
   ]
  },
  {
   "cell_type": "code",
   "execution_count": 9,
   "metadata": {
    "extensions": {
     "jupyter_dashboards": {
      "version": 1,
      "views": {
       "grid_default": {
        "col": 0,
        "height": 8,
        "hidden": false,
        "row": 0,
        "width": 4
       },
       "report_default": {
        "hidden": false
       }
      }
     }
    }
   },
   "outputs": [],
   "source": [
    "FILES = sorted(glob(DATA_DIR + \"*.{}\".format(FILE_TYPE)))"
   ]
  },
  {
   "cell_type": "markdown",
   "metadata": {},
   "source": [
    "Print all file names:"
   ]
  },
  {
   "cell_type": "code",
   "execution_count": 10,
   "metadata": {
    "extensions": {
     "jupyter_dashboards": {
      "version": 1,
      "views": {
       "grid_default": {
        "col": 0,
        "height": 8,
        "hidden": false,
        "row": 0,
        "width": 4
       },
       "report_default": {
        "hidden": false
       }
      }
     }
    }
   },
   "outputs": [
    {
     "name": "stdout",
     "output_type": "stream",
     "text": [
      "./example_data/N1850C53CLM45L32_f09_tn11_191017 (yrs 71-100).webarchive\n",
      "./example_data/N1850_f09_tn14_230218 (yrs 1-20).webarchive\n",
      "./example_data/N1850_f19_tn14_r227_ctrl (yrs 185-215).webarchive\n",
      "./example_data/N1850_f19_tn14_r227_ctrl (yrs 310-340).webarchive\n",
      "./example_data/N1850_f19_tn14_r227_ctrl (yrs 80-110).webarchive\n",
      "./example_data/N1850_f19_tn14_r265_ctrl_20180411 (yrs 90-120).webarchive\n"
     ]
    }
   ],
   "source": [
    "for file in FILES:\n",
    "    print(file)    "
   ]
  },
  {
   "cell_type": "markdown",
   "metadata": {},
   "source": [
    "You can see that the names of the files are quite long and this may impact the labelling of the heatmap plots below (and of the table displays in this notebook). Therefore, you have the option, to apply a renaming to each of the runs in the following cell. "
   ]
  },
  {
   "cell_type": "markdown",
   "metadata": {
    "extensions": {
     "jupyter_dashboards": {
      "version": 1,
      "views": {
       "grid_default": {
        "col": 0,
        "height": 4,
        "hidden": false,
        "row": 52,
        "width": 12
       },
       "report_default": {
        "hidden": false
       }
      }
     }
    }
   },
   "source": [
    "##### 3.1 Shortcuts for Run IDs (OPTIONAL)\n",
    "\n",
    "Define list of shortnames for model runs or define a prefix. If undefined (i.e. empty list and ``None``), the original names are used. By default, the runs will be renamed using a prefix \"Run\" and the number of the file in the list.\n",
    "\n",
    "**<span style=\"color:red\">NOTE</span>**: when reading the files, the file IDs (e.g. *N1850_f19_tn14_r227_ctrl (yrs 185-215)* or *N1850_f19_tn14_r227_ctrl (yrs 80-110)*) are split into a ***run_id*** (e.g. *N1850_f19_tn14_r227_ctrl*) and a string representing the years of the model run (e.g. *(yrs 80-110)*). These make up to individual levels *Run* and *Years* in the hierarchical index of the table \\\\(\\mathcal{T}\\\\). For instance the 6 files above of the example dataset actually only correspond to 4 unique run IDs, since *N1850_f19_tn14_r227_ctrl* occurs 3 times (for different years).\n",
    "\n",
    "**<span style=\"color:red\">THUS:</span>** If you want to rename the individual runs below, using the option ``RUN_IDS`` please make sure that the list contains the number of elements that correspond to the number of *unique* run IDs in the file list (i.e. for the example above 4 renaming strings, not 6)."
   ]
  },
  {
   "cell_type": "code",
   "execution_count": 11,
   "metadata": {
    "extensions": {
     "jupyter_dashboards": {
      "version": 1,
      "views": {
       "grid_default": {
        "hidden": true
       },
       "report_default": {
        "hidden": true
       }
      }
     }
    }
   },
   "outputs": [],
   "source": [
    "# either\n",
    "RUN_IDS = ['first', 'second', 'second_last', 'last'] \n",
    "# or (is ignored if RUN_IDS is specified)\n",
    "RUN_ID_PREFIX = \"Run\""
   ]
  },
  {
   "cell_type": "markdown",
   "metadata": {
    "extensions": {
     "jupyter_dashboards": {
      "version": 1,
      "views": {
       "grid_default": {
        "col": 0,
        "height": 5,
        "hidden": false,
        "row": 56,
        "width": 12
       },
       "report_default": {
        "hidden": false
       }
      }
     }
    }
   },
   "source": [
    "### 4. Importing multiple result files and concatenating them into one Dataframe (LOAD_FILES)\n",
    "\n",
    "In the following, we load all files into one large table \\\\(\\mathcal{T}\\\\) (instance of `pandas.DataFrame`).\n",
    "\n",
    "To do this, a custom method `read_and_merge_all` was defined in [helper_funcs.py](https://github.com/jgliss/my_py3_scripts/blob/master/notebooks/helper_funcs.py). The method basically loops over all files and calls the method ``read_file_custom``, which you can also find in [helper_funcs.py](https://github.com/jgliss/my_py3_scripts/blob/master/notebooks/helper_funcs.py). "
   ]
  },
  {
   "cell_type": "code",
   "execution_count": 12,
   "metadata": {
    "extensions": {
     "jupyter_dashboards": {
      "version": 1,
      "views": {
       "grid_default": {
        "col": 0,
        "height": 12,
        "hidden": false,
        "row": 61,
        "width": 7
       },
       "report_default": {
        "hidden": false
       }
      }
     }
    }
   },
   "outputs": [
    {
     "data": {
      "text/html": [
       "<div>\n",
       "<style scoped>\n",
       "    .dataframe tbody tr th:only-of-type {\n",
       "        vertical-align: middle;\n",
       "    }\n",
       "\n",
       "    .dataframe tbody tr th {\n",
       "        vertical-align: top;\n",
       "    }\n",
       "\n",
       "    .dataframe thead th {\n",
       "        text-align: right;\n",
       "    }\n",
       "</style>\n",
       "<table border=\"1\" class=\"dataframe\">\n",
       "  <thead>\n",
       "    <tr style=\"text-align: right;\">\n",
       "      <th></th>\n",
       "      <th></th>\n",
       "      <th></th>\n",
       "      <th></th>\n",
       "      <th>Flag</th>\n",
       "      <th>Model</th>\n",
       "      <th>Obs</th>\n",
       "      <th>Bias</th>\n",
       "      <th>RMSE</th>\n",
       "    </tr>\n",
       "    <tr>\n",
       "      <th>Run</th>\n",
       "      <th>Years</th>\n",
       "      <th>Variable</th>\n",
       "      <th>Description</th>\n",
       "      <th></th>\n",
       "      <th></th>\n",
       "      <th></th>\n",
       "      <th></th>\n",
       "      <th></th>\n",
       "    </tr>\n",
       "  </thead>\n",
       "  <tbody>\n",
       "    <tr>\n",
       "      <th rowspan=\"30\" valign=\"top\">Run1</th>\n",
       "      <th rowspan=\"30\" valign=\"top\">71-100</th>\n",
       "      <th>RESTOM</th>\n",
       "      <th>Top model net flux</th>\n",
       "      <td>1.0</td>\n",
       "      <td>-0.489</td>\n",
       "      <td>0.000</td>\n",
       "      <td>-0.489</td>\n",
       "      <td>NaN</td>\n",
       "    </tr>\n",
       "    <tr>\n",
       "      <th>RESSURF</th>\n",
       "      <th>SRF net flux</th>\n",
       "      <td>1.0</td>\n",
       "      <td>-0.489</td>\n",
       "      <td>0.000</td>\n",
       "      <td>-0.489</td>\n",
       "      <td>NaN</td>\n",
       "    </tr>\n",
       "    <tr>\n",
       "      <th>RESTOA_CERES-EBAF</th>\n",
       "      <th>TOA  net flux</th>\n",
       "      <td>1.0</td>\n",
       "      <td>1.529</td>\n",
       "      <td>0.992</td>\n",
       "      <td>0.537</td>\n",
       "      <td>8.842</td>\n",
       "    </tr>\n",
       "    <tr>\n",
       "      <th>RESTOA_ERBE</th>\n",
       "      <th>TOA  net flux</th>\n",
       "      <td>1.0</td>\n",
       "      <td>1.529</td>\n",
       "      <td>0.059</td>\n",
       "      <td>1.470</td>\n",
       "      <td>8.992</td>\n",
       "    </tr>\n",
       "    <tr>\n",
       "      <th>SOLIN_CERES-EBAF</th>\n",
       "      <th>Insolation</th>\n",
       "      <td>1.0</td>\n",
       "      <td>340.206</td>\n",
       "      <td>340.054</td>\n",
       "      <td>0.152</td>\n",
       "      <td>0.167</td>\n",
       "    </tr>\n",
       "    <tr>\n",
       "      <th>SOLIN_CERES</th>\n",
       "      <th>Insolation</th>\n",
       "      <td>1.0</td>\n",
       "      <td>340.206</td>\n",
       "      <td>341.479</td>\n",
       "      <td>-1.273</td>\n",
       "      <td>1.226</td>\n",
       "    </tr>\n",
       "    <tr>\n",
       "      <th>CLDTOT_ISCCP</th>\n",
       "      <th>Total cloud cover</th>\n",
       "      <td>1.0</td>\n",
       "      <td>63.621</td>\n",
       "      <td>66.800</td>\n",
       "      <td>-3.179</td>\n",
       "      <td>11.323</td>\n",
       "    </tr>\n",
       "    <tr>\n",
       "      <th>CLDTOT_CLOUDSAT</th>\n",
       "      <th>Total cloud cover</th>\n",
       "      <td>1.0</td>\n",
       "      <td>63.621</td>\n",
       "      <td>66.824</td>\n",
       "      <td>-3.203</td>\n",
       "      <td>9.731</td>\n",
       "    </tr>\n",
       "    <tr>\n",
       "      <th>FLDS_ISCCP</th>\n",
       "      <th>LW down SRF</th>\n",
       "      <td>1.0</td>\n",
       "      <td>338.280</td>\n",
       "      <td>343.347</td>\n",
       "      <td>-5.066</td>\n",
       "      <td>14.450</td>\n",
       "    </tr>\n",
       "    <tr>\n",
       "      <th>FLNS_ISCCP</th>\n",
       "      <th>LW net SRF</th>\n",
       "      <td>1.0</td>\n",
       "      <td>55.819</td>\n",
       "      <td>49.425</td>\n",
       "      <td>6.394</td>\n",
       "      <td>11.967</td>\n",
       "    </tr>\n",
       "    <tr>\n",
       "      <th>FLUT_CERES-EBAF</th>\n",
       "      <th>LW up Top</th>\n",
       "      <td>1.0</td>\n",
       "      <td>238.148</td>\n",
       "      <td>239.574</td>\n",
       "      <td>-1.426</td>\n",
       "      <td>6.855</td>\n",
       "    </tr>\n",
       "    <tr>\n",
       "      <th>FLUT_CERES</th>\n",
       "      <th>LW up Top</th>\n",
       "      <td>1.0</td>\n",
       "      <td>238.148</td>\n",
       "      <td>238.963</td>\n",
       "      <td>-0.815</td>\n",
       "      <td>6.770</td>\n",
       "    </tr>\n",
       "    <tr>\n",
       "      <th>FLUT_ERBE</th>\n",
       "      <th>LW up Top</th>\n",
       "      <td>1.0</td>\n",
       "      <td>238.148</td>\n",
       "      <td>233.946</td>\n",
       "      <td>4.202</td>\n",
       "      <td>7.887</td>\n",
       "    </tr>\n",
       "    <tr>\n",
       "      <th>FLUTC_CERES-EBAF</th>\n",
       "      <th>LW up Top Clearsky</th>\n",
       "      <td>1.0</td>\n",
       "      <td>261.783</td>\n",
       "      <td>266.051</td>\n",
       "      <td>-4.268</td>\n",
       "      <td>6.042</td>\n",
       "    </tr>\n",
       "    <tr>\n",
       "      <th>FLUTC_CERES</th>\n",
       "      <th>LW up Top Clearsky</th>\n",
       "      <td>1.0</td>\n",
       "      <td>261.783</td>\n",
       "      <td>266.878</td>\n",
       "      <td>-5.096</td>\n",
       "      <td>8.384</td>\n",
       "    </tr>\n",
       "    <tr>\n",
       "      <th>FLUTC_ERBE</th>\n",
       "      <th>LW up Top Clearsky</th>\n",
       "      <td>1.0</td>\n",
       "      <td>261.783</td>\n",
       "      <td>264.429</td>\n",
       "      <td>-2.646</td>\n",
       "      <td>5.725</td>\n",
       "    </tr>\n",
       "    <tr>\n",
       "      <th>FLNT_CAM</th>\n",
       "      <th>LW net Top</th>\n",
       "      <td>1.0</td>\n",
       "      <td>236.838</td>\n",
       "      <td>NaN</td>\n",
       "      <td>NaN</td>\n",
       "      <td>NaN</td>\n",
       "    </tr>\n",
       "    <tr>\n",
       "      <th>FSDS_ISCCP</th>\n",
       "      <th>SW down SRF</th>\n",
       "      <td>1.0</td>\n",
       "      <td>187.801</td>\n",
       "      <td>189.390</td>\n",
       "      <td>-1.589</td>\n",
       "      <td>13.380</td>\n",
       "    </tr>\n",
       "    <tr>\n",
       "      <th>FSNS_ISCCP</th>\n",
       "      <th>SW net SRF</th>\n",
       "      <td>1.0</td>\n",
       "      <td>163.679</td>\n",
       "      <td>165.893</td>\n",
       "      <td>-2.214</td>\n",
       "      <td>12.711</td>\n",
       "    </tr>\n",
       "    <tr>\n",
       "      <th>FSNS_LARYEA</th>\n",
       "      <th>SW net SRF</th>\n",
       "      <td>1.0</td>\n",
       "      <td>163.679</td>\n",
       "      <td>154.089</td>\n",
       "      <td>9.590</td>\n",
       "      <td>36.124</td>\n",
       "    </tr>\n",
       "    <tr>\n",
       "      <th>FSNTOA_CERES-EBAF</th>\n",
       "      <th></th>\n",
       "      <td>0.0</td>\n",
       "      <td>239.677</td>\n",
       "      <td>240.566</td>\n",
       "      <td>-0.890</td>\n",
       "      <td>10.530</td>\n",
       "    </tr>\n",
       "    <tr>\n",
       "      <th>FSNTOA_CERES</th>\n",
       "      <th>SW net TOA</th>\n",
       "      <td>1.0</td>\n",
       "      <td>239.677</td>\n",
       "      <td>244.691</td>\n",
       "      <td>-5.015</td>\n",
       "      <td>12.307</td>\n",
       "    </tr>\n",
       "    <tr>\n",
       "      <th>FSNTOA_ERBE</th>\n",
       "      <th>SW net TOA</th>\n",
       "      <td>1.0</td>\n",
       "      <td>239.677</td>\n",
       "      <td>234.004</td>\n",
       "      <td>5.672</td>\n",
       "      <td>12.491</td>\n",
       "    </tr>\n",
       "    <tr>\n",
       "      <th>FSNTOAC_CERES-EBAF</th>\n",
       "      <th></th>\n",
       "      <td>0.0</td>\n",
       "      <td>287.999</td>\n",
       "      <td>287.638</td>\n",
       "      <td>0.362</td>\n",
       "      <td>7.845</td>\n",
       "    </tr>\n",
       "    <tr>\n",
       "      <th>FSNTOAC_CERES</th>\n",
       "      <th>SW net TOA clearsky</th>\n",
       "      <td>1.0</td>\n",
       "      <td>287.999</td>\n",
       "      <td>294.702</td>\n",
       "      <td>-6.703</td>\n",
       "      <td>18.458</td>\n",
       "    </tr>\n",
       "    <tr>\n",
       "      <th>FSNTOAC_ERBE</th>\n",
       "      <th>SW net TOA clearsky</th>\n",
       "      <td>1.0</td>\n",
       "      <td>287.999</td>\n",
       "      <td>289.329</td>\n",
       "      <td>-1.329</td>\n",
       "      <td>15.441</td>\n",
       "    </tr>\n",
       "    <tr>\n",
       "      <th>FSNT_CAM</th>\n",
       "      <th>SW net Top</th>\n",
       "      <td>1.0</td>\n",
       "      <td>236.348</td>\n",
       "      <td>NaN</td>\n",
       "      <td>NaN</td>\n",
       "      <td>NaN</td>\n",
       "    </tr>\n",
       "    <tr>\n",
       "      <th>LHFLX_JRA25</th>\n",
       "      <th>Lat Heat Flux</th>\n",
       "      <td>1.0</td>\n",
       "      <td>87.904</td>\n",
       "      <td>87.935</td>\n",
       "      <td>-0.031</td>\n",
       "      <td>17.176</td>\n",
       "    </tr>\n",
       "    <tr>\n",
       "      <th>LHFLX_ERA40</th>\n",
       "      <th>Lat Heat Flux</th>\n",
       "      <td>1.0</td>\n",
       "      <td>87.904</td>\n",
       "      <td>82.367</td>\n",
       "      <td>5.537</td>\n",
       "      <td>19.019</td>\n",
       "    </tr>\n",
       "    <tr>\n",
       "      <th>LHFLX_WHOI</th>\n",
       "      <th>Lat Heat Flux</th>\n",
       "      <td>1.0</td>\n",
       "      <td>87.904</td>\n",
       "      <td>89.083</td>\n",
       "      <td>-1.179</td>\n",
       "      <td>30.655</td>\n",
       "    </tr>\n",
       "    <tr>\n",
       "      <th>...</th>\n",
       "      <th>...</th>\n",
       "      <th>...</th>\n",
       "      <th>...</th>\n",
       "      <td>...</td>\n",
       "      <td>...</td>\n",
       "      <td>...</td>\n",
       "      <td>...</td>\n",
       "      <td>...</td>\n",
       "    </tr>\n",
       "    <tr>\n",
       "      <th rowspan=\"30\" valign=\"top\">Run4</th>\n",
       "      <th rowspan=\"30\" valign=\"top\">90-120</th>\n",
       "      <th>PRECT_GPCP</th>\n",
       "      <th>Precipitation</th>\n",
       "      <td>1.0</td>\n",
       "      <td>2.918</td>\n",
       "      <td>2.674</td>\n",
       "      <td>0.244</td>\n",
       "      <td>0.975</td>\n",
       "    </tr>\n",
       "    <tr>\n",
       "      <th>PREH2O_NVAP</th>\n",
       "      <th>Precipitable water</th>\n",
       "      <td>1.0</td>\n",
       "      <td>25.733</td>\n",
       "      <td>24.597</td>\n",
       "      <td>1.136</td>\n",
       "      <td>2.867</td>\n",
       "    </tr>\n",
       "    <tr>\n",
       "      <th>PREH2O_AIRS</th>\n",
       "      <th>Precipitable water</th>\n",
       "      <td>1.0</td>\n",
       "      <td>25.733</td>\n",
       "      <td>20.425</td>\n",
       "      <td>5.308</td>\n",
       "      <td>6.216</td>\n",
       "    </tr>\n",
       "    <tr>\n",
       "      <th>PREH2O_JRA25</th>\n",
       "      <th>Precipitable water</th>\n",
       "      <td>1.0</td>\n",
       "      <td>25.733</td>\n",
       "      <td>20.425</td>\n",
       "      <td>5.308</td>\n",
       "      <td>6.216</td>\n",
       "    </tr>\n",
       "    <tr>\n",
       "      <th>PREH2O_ERAI</th>\n",
       "      <th>Precipitable water</th>\n",
       "      <td>1.0</td>\n",
       "      <td>25.733</td>\n",
       "      <td>24.247</td>\n",
       "      <td>1.486</td>\n",
       "      <td>2.674</td>\n",
       "    </tr>\n",
       "    <tr>\n",
       "      <th>PREH2O_ERA40</th>\n",
       "      <th>Precipitable water</th>\n",
       "      <td>1.0</td>\n",
       "      <td>25.733</td>\n",
       "      <td>24.948</td>\n",
       "      <td>0.785</td>\n",
       "      <td>2.373</td>\n",
       "    </tr>\n",
       "    <tr>\n",
       "      <th>PSL_JRA25</th>\n",
       "      <th>SeaLev pressure</th>\n",
       "      <td>1.0</td>\n",
       "      <td>1011.614</td>\n",
       "      <td>1011.280</td>\n",
       "      <td>0.335</td>\n",
       "      <td>1.695</td>\n",
       "    </tr>\n",
       "    <tr>\n",
       "      <th>PSL_ERAI</th>\n",
       "      <th>SeaLev pressure</th>\n",
       "      <td>1.0</td>\n",
       "      <td>1011.614</td>\n",
       "      <td>1011.362</td>\n",
       "      <td>0.252</td>\n",
       "      <td>1.669</td>\n",
       "    </tr>\n",
       "    <tr>\n",
       "      <th>SHFLX_JRA25</th>\n",
       "      <th>Sens Heat Flux</th>\n",
       "      <td>1.0</td>\n",
       "      <td>22.229</td>\n",
       "      <td>19.372</td>\n",
       "      <td>2.857</td>\n",
       "      <td>11.202</td>\n",
       "    </tr>\n",
       "    <tr>\n",
       "      <th>SHFLX_NCEP</th>\n",
       "      <th>Sens Heat Flux</th>\n",
       "      <td>1.0</td>\n",
       "      <td>22.229</td>\n",
       "      <td>15.795</td>\n",
       "      <td>6.434</td>\n",
       "      <td>14.963</td>\n",
       "    </tr>\n",
       "    <tr>\n",
       "      <th>SHFLX_LARYEA</th>\n",
       "      <th>Sens Heat Flux</th>\n",
       "      <td>1.0</td>\n",
       "      <td>22.229</td>\n",
       "      <td>13.236</td>\n",
       "      <td>8.993</td>\n",
       "      <td>12.064</td>\n",
       "    </tr>\n",
       "    <tr>\n",
       "      <th>STRESS_MAG_ERS</th>\n",
       "      <th></th>\n",
       "      <td>0.0</td>\n",
       "      <td>0.063</td>\n",
       "      <td>0.064</td>\n",
       "      <td>-0.001</td>\n",
       "      <td>0.018</td>\n",
       "    </tr>\n",
       "    <tr>\n",
       "      <th>STRESS_MAG_LARYEA</th>\n",
       "      <th></th>\n",
       "      <td>0.0</td>\n",
       "      <td>0.063</td>\n",
       "      <td>0.071</td>\n",
       "      <td>-0.008</td>\n",
       "      <td>0.019</td>\n",
       "    </tr>\n",
       "    <tr>\n",
       "      <th>STRESS_MAG_JRA25</th>\n",
       "      <th></th>\n",
       "      <td>0.0</td>\n",
       "      <td>0.063</td>\n",
       "      <td>0.080</td>\n",
       "      <td>-0.017</td>\n",
       "      <td>0.021</td>\n",
       "    </tr>\n",
       "    <tr>\n",
       "      <th>SWCF_CERES-EBAF</th>\n",
       "      <th>SW Cloud Forc</th>\n",
       "      <td>1.0</td>\n",
       "      <td>-48.959</td>\n",
       "      <td>-47.071</td>\n",
       "      <td>-1.888</td>\n",
       "      <td>9.973</td>\n",
       "    </tr>\n",
       "    <tr>\n",
       "      <th>SWCF_CERES</th>\n",
       "      <th>SW Cloud Forc</th>\n",
       "      <td>1.0</td>\n",
       "      <td>-48.959</td>\n",
       "      <td>-48.586</td>\n",
       "      <td>-0.373</td>\n",
       "      <td>15.210</td>\n",
       "    </tr>\n",
       "    <tr>\n",
       "      <th>SWCF_ERBE</th>\n",
       "      <th>SW Cloud Forc</th>\n",
       "      <td>1.0</td>\n",
       "      <td>-48.959</td>\n",
       "      <td>-54.163</td>\n",
       "      <td>5.204</td>\n",
       "      <td>14.753</td>\n",
       "    </tr>\n",
       "    <tr>\n",
       "      <th>AODVIS</th>\n",
       "      <th>aerosol optical depth</th>\n",
       "      <td>1.0</td>\n",
       "      <td>NaN</td>\n",
       "      <td>NaN</td>\n",
       "      <td>NaN</td>\n",
       "      <td>NaN</td>\n",
       "    </tr>\n",
       "    <tr>\n",
       "      <th>AODDUST</th>\n",
       "      <th>dust aerosol optical depth</th>\n",
       "      <td>1.0</td>\n",
       "      <td>NaN</td>\n",
       "      <td>NaN</td>\n",
       "      <td>NaN</td>\n",
       "      <td>NaN</td>\n",
       "    </tr>\n",
       "    <tr>\n",
       "      <th>SST_HADISST</th>\n",
       "      <th>Sea Srf Temp</th>\n",
       "      <td>1.0</td>\n",
       "      <td>21.405</td>\n",
       "      <td>20.393</td>\n",
       "      <td>1.012</td>\n",
       "      <td>1.430</td>\n",
       "    </tr>\n",
       "    <tr>\n",
       "      <th>SST_HADISST_PI</th>\n",
       "      <th>SST preindustrial</th>\n",
       "      <td>1.0</td>\n",
       "      <td>21.726</td>\n",
       "      <td>20.368</td>\n",
       "      <td>1.358</td>\n",
       "      <td>1.732</td>\n",
       "    </tr>\n",
       "    <tr>\n",
       "      <th>SST_HADISST_PD</th>\n",
       "      <th>SST present day</th>\n",
       "      <td>1.0</td>\n",
       "      <td>21.396</td>\n",
       "      <td>20.497</td>\n",
       "      <td>0.899</td>\n",
       "      <td>1.411</td>\n",
       "    </tr>\n",
       "    <tr>\n",
       "      <th>TREFHT_LEGATES</th>\n",
       "      <th>2m Temp</th>\n",
       "      <td>1.0</td>\n",
       "      <td>287.949</td>\n",
       "      <td>287.645</td>\n",
       "      <td>0.304</td>\n",
       "      <td>3.436</td>\n",
       "    </tr>\n",
       "    <tr>\n",
       "      <th>TREFHT_JRA25</th>\n",
       "      <th>2m Temp</th>\n",
       "      <td>1.0</td>\n",
       "      <td>287.949</td>\n",
       "      <td>287.605</td>\n",
       "      <td>0.344</td>\n",
       "      <td>2.147</td>\n",
       "    </tr>\n",
       "    <tr>\n",
       "      <th>TS_NCEP</th>\n",
       "      <th>2m Temp</th>\n",
       "      <td>1.0</td>\n",
       "      <td>289.201</td>\n",
       "      <td>287.683</td>\n",
       "      <td>1.518</td>\n",
       "      <td>2.663</td>\n",
       "    </tr>\n",
       "    <tr>\n",
       "      <th>TS_LAND_NCEP</th>\n",
       "      <th>2m Temp land</th>\n",
       "      <td>1.0</td>\n",
       "      <td>283.308</td>\n",
       "      <td>281.155</td>\n",
       "      <td>2.153</td>\n",
       "      <td>3.944</td>\n",
       "    </tr>\n",
       "    <tr>\n",
       "      <th>U_200_JRA25</th>\n",
       "      <th>Zonal Wind</th>\n",
       "      <td>1.0</td>\n",
       "      <td>17.869</td>\n",
       "      <td>15.565</td>\n",
       "      <td>2.304</td>\n",
       "      <td>3.342</td>\n",
       "    </tr>\n",
       "    <tr>\n",
       "      <th>U_200_NCEP</th>\n",
       "      <th>Zonal Wind</th>\n",
       "      <td>1.0</td>\n",
       "      <td>17.869</td>\n",
       "      <td>15.297</td>\n",
       "      <td>2.573</td>\n",
       "      <td>3.542</td>\n",
       "    </tr>\n",
       "    <tr>\n",
       "      <th>Z3_500_JRA25</th>\n",
       "      <th>Geop Height</th>\n",
       "      <td>1.0</td>\n",
       "      <td>56.586</td>\n",
       "      <td>56.601</td>\n",
       "      <td>-0.014</td>\n",
       "      <td>0.199</td>\n",
       "    </tr>\n",
       "    <tr>\n",
       "      <th>Z3_500_NCEP</th>\n",
       "      <th>Geop Height</th>\n",
       "      <td>1.0</td>\n",
       "      <td>56.586</td>\n",
       "      <td>56.581</td>\n",
       "      <td>0.005</td>\n",
       "      <td>0.187</td>\n",
       "    </tr>\n",
       "  </tbody>\n",
       "</table>\n",
       "<p>378 rows × 5 columns</p>\n",
       "</div>"
      ],
      "text/plain": [
       "                                                           Flag     Model  \\\n",
       "Run  Years  Variable           Description                                  \n",
       "Run1 71-100 RESTOM             Top model net flux           1.0    -0.489   \n",
       "            RESSURF            SRF net flux                 1.0    -0.489   \n",
       "            RESTOA_CERES-EBAF  TOA  net flux                1.0     1.529   \n",
       "            RESTOA_ERBE        TOA  net flux                1.0     1.529   \n",
       "            SOLIN_CERES-EBAF   Insolation                   1.0   340.206   \n",
       "            SOLIN_CERES        Insolation                   1.0   340.206   \n",
       "            CLDTOT_ISCCP       Total cloud cover            1.0    63.621   \n",
       "            CLDTOT_CLOUDSAT    Total cloud cover            1.0    63.621   \n",
       "            FLDS_ISCCP         LW down SRF                  1.0   338.280   \n",
       "            FLNS_ISCCP         LW net SRF                   1.0    55.819   \n",
       "            FLUT_CERES-EBAF    LW up Top                    1.0   238.148   \n",
       "            FLUT_CERES         LW up Top                    1.0   238.148   \n",
       "            FLUT_ERBE          LW up Top                    1.0   238.148   \n",
       "            FLUTC_CERES-EBAF   LW up Top Clearsky           1.0   261.783   \n",
       "            FLUTC_CERES        LW up Top Clearsky           1.0   261.783   \n",
       "            FLUTC_ERBE         LW up Top Clearsky           1.0   261.783   \n",
       "            FLNT_CAM           LW net Top                   1.0   236.838   \n",
       "            FSDS_ISCCP         SW down SRF                  1.0   187.801   \n",
       "            FSNS_ISCCP         SW net SRF                   1.0   163.679   \n",
       "            FSNS_LARYEA        SW net SRF                   1.0   163.679   \n",
       "            FSNTOA_CERES-EBAF                               0.0   239.677   \n",
       "            FSNTOA_CERES       SW net TOA                   1.0   239.677   \n",
       "            FSNTOA_ERBE        SW net TOA                   1.0   239.677   \n",
       "            FSNTOAC_CERES-EBAF                              0.0   287.999   \n",
       "            FSNTOAC_CERES      SW net TOA clearsky          1.0   287.999   \n",
       "            FSNTOAC_ERBE       SW net TOA clearsky          1.0   287.999   \n",
       "            FSNT_CAM           SW net Top                   1.0   236.348   \n",
       "            LHFLX_JRA25        Lat Heat Flux                1.0    87.904   \n",
       "            LHFLX_ERA40        Lat Heat Flux                1.0    87.904   \n",
       "            LHFLX_WHOI         Lat Heat Flux                1.0    87.904   \n",
       "...                                                         ...       ...   \n",
       "Run4 90-120 PRECT_GPCP         Precipitation                1.0     2.918   \n",
       "            PREH2O_NVAP        Precipitable water           1.0    25.733   \n",
       "            PREH2O_AIRS        Precipitable water           1.0    25.733   \n",
       "            PREH2O_JRA25       Precipitable water           1.0    25.733   \n",
       "            PREH2O_ERAI        Precipitable water           1.0    25.733   \n",
       "            PREH2O_ERA40       Precipitable water           1.0    25.733   \n",
       "            PSL_JRA25          SeaLev pressure              1.0  1011.614   \n",
       "            PSL_ERAI           SeaLev pressure              1.0  1011.614   \n",
       "            SHFLX_JRA25        Sens Heat Flux               1.0    22.229   \n",
       "            SHFLX_NCEP         Sens Heat Flux               1.0    22.229   \n",
       "            SHFLX_LARYEA       Sens Heat Flux               1.0    22.229   \n",
       "            STRESS_MAG_ERS                                  0.0     0.063   \n",
       "            STRESS_MAG_LARYEA                               0.0     0.063   \n",
       "            STRESS_MAG_JRA25                                0.0     0.063   \n",
       "            SWCF_CERES-EBAF    SW Cloud Forc                1.0   -48.959   \n",
       "            SWCF_CERES         SW Cloud Forc                1.0   -48.959   \n",
       "            SWCF_ERBE          SW Cloud Forc                1.0   -48.959   \n",
       "            AODVIS             aerosol optical depth        1.0       NaN   \n",
       "            AODDUST            dust aerosol optical depth   1.0       NaN   \n",
       "            SST_HADISST        Sea Srf Temp                 1.0    21.405   \n",
       "            SST_HADISST_PI     SST preindustrial            1.0    21.726   \n",
       "            SST_HADISST_PD     SST present day              1.0    21.396   \n",
       "            TREFHT_LEGATES     2m Temp                      1.0   287.949   \n",
       "            TREFHT_JRA25       2m Temp                      1.0   287.949   \n",
       "            TS_NCEP            2m Temp                      1.0   289.201   \n",
       "            TS_LAND_NCEP       2m Temp land                 1.0   283.308   \n",
       "            U_200_JRA25        Zonal Wind                   1.0    17.869   \n",
       "            U_200_NCEP         Zonal Wind                   1.0    17.869   \n",
       "            Z3_500_JRA25       Geop Height                  1.0    56.586   \n",
       "            Z3_500_NCEP        Geop Height                  1.0    56.586   \n",
       "\n",
       "                                                                Obs   Bias  \\\n",
       "Run  Years  Variable           Description                                   \n",
       "Run1 71-100 RESTOM             Top model net flux             0.000 -0.489   \n",
       "            RESSURF            SRF net flux                   0.000 -0.489   \n",
       "            RESTOA_CERES-EBAF  TOA  net flux                  0.992  0.537   \n",
       "            RESTOA_ERBE        TOA  net flux                  0.059  1.470   \n",
       "            SOLIN_CERES-EBAF   Insolation                   340.054  0.152   \n",
       "            SOLIN_CERES        Insolation                   341.479 -1.273   \n",
       "            CLDTOT_ISCCP       Total cloud cover             66.800 -3.179   \n",
       "            CLDTOT_CLOUDSAT    Total cloud cover             66.824 -3.203   \n",
       "            FLDS_ISCCP         LW down SRF                  343.347 -5.066   \n",
       "            FLNS_ISCCP         LW net SRF                    49.425  6.394   \n",
       "            FLUT_CERES-EBAF    LW up Top                    239.574 -1.426   \n",
       "            FLUT_CERES         LW up Top                    238.963 -0.815   \n",
       "            FLUT_ERBE          LW up Top                    233.946  4.202   \n",
       "            FLUTC_CERES-EBAF   LW up Top Clearsky           266.051 -4.268   \n",
       "            FLUTC_CERES        LW up Top Clearsky           266.878 -5.096   \n",
       "            FLUTC_ERBE         LW up Top Clearsky           264.429 -2.646   \n",
       "            FLNT_CAM           LW net Top                       NaN    NaN   \n",
       "            FSDS_ISCCP         SW down SRF                  189.390 -1.589   \n",
       "            FSNS_ISCCP         SW net SRF                   165.893 -2.214   \n",
       "            FSNS_LARYEA        SW net SRF                   154.089  9.590   \n",
       "            FSNTOA_CERES-EBAF                               240.566 -0.890   \n",
       "            FSNTOA_CERES       SW net TOA                   244.691 -5.015   \n",
       "            FSNTOA_ERBE        SW net TOA                   234.004  5.672   \n",
       "            FSNTOAC_CERES-EBAF                              287.638  0.362   \n",
       "            FSNTOAC_CERES      SW net TOA clearsky          294.702 -6.703   \n",
       "            FSNTOAC_ERBE       SW net TOA clearsky          289.329 -1.329   \n",
       "            FSNT_CAM           SW net Top                       NaN    NaN   \n",
       "            LHFLX_JRA25        Lat Heat Flux                 87.935 -0.031   \n",
       "            LHFLX_ERA40        Lat Heat Flux                 82.367  5.537   \n",
       "            LHFLX_WHOI         Lat Heat Flux                 89.083 -1.179   \n",
       "...                                                             ...    ...   \n",
       "Run4 90-120 PRECT_GPCP         Precipitation                  2.674  0.244   \n",
       "            PREH2O_NVAP        Precipitable water            24.597  1.136   \n",
       "            PREH2O_AIRS        Precipitable water            20.425  5.308   \n",
       "            PREH2O_JRA25       Precipitable water            20.425  5.308   \n",
       "            PREH2O_ERAI        Precipitable water            24.247  1.486   \n",
       "            PREH2O_ERA40       Precipitable water            24.948  0.785   \n",
       "            PSL_JRA25          SeaLev pressure             1011.280  0.335   \n",
       "            PSL_ERAI           SeaLev pressure             1011.362  0.252   \n",
       "            SHFLX_JRA25        Sens Heat Flux                19.372  2.857   \n",
       "            SHFLX_NCEP         Sens Heat Flux                15.795  6.434   \n",
       "            SHFLX_LARYEA       Sens Heat Flux                13.236  8.993   \n",
       "            STRESS_MAG_ERS                                    0.064 -0.001   \n",
       "            STRESS_MAG_LARYEA                                 0.071 -0.008   \n",
       "            STRESS_MAG_JRA25                                  0.080 -0.017   \n",
       "            SWCF_CERES-EBAF    SW Cloud Forc                -47.071 -1.888   \n",
       "            SWCF_CERES         SW Cloud Forc                -48.586 -0.373   \n",
       "            SWCF_ERBE          SW Cloud Forc                -54.163  5.204   \n",
       "            AODVIS             aerosol optical depth            NaN    NaN   \n",
       "            AODDUST            dust aerosol optical depth       NaN    NaN   \n",
       "            SST_HADISST        Sea Srf Temp                  20.393  1.012   \n",
       "            SST_HADISST_PI     SST preindustrial             20.368  1.358   \n",
       "            SST_HADISST_PD     SST present day               20.497  0.899   \n",
       "            TREFHT_LEGATES     2m Temp                      287.645  0.304   \n",
       "            TREFHT_JRA25       2m Temp                      287.605  0.344   \n",
       "            TS_NCEP            2m Temp                      287.683  1.518   \n",
       "            TS_LAND_NCEP       2m Temp land                 281.155  2.153   \n",
       "            U_200_JRA25        Zonal Wind                    15.565  2.304   \n",
       "            U_200_NCEP         Zonal Wind                    15.297  2.573   \n",
       "            Z3_500_JRA25       Geop Height                   56.601 -0.014   \n",
       "            Z3_500_NCEP        Geop Height                   56.581  0.005   \n",
       "\n",
       "                                                             RMSE  \n",
       "Run  Years  Variable           Description                         \n",
       "Run1 71-100 RESTOM             Top model net flux             NaN  \n",
       "            RESSURF            SRF net flux                   NaN  \n",
       "            RESTOA_CERES-EBAF  TOA  net flux                8.842  \n",
       "            RESTOA_ERBE        TOA  net flux                8.992  \n",
       "            SOLIN_CERES-EBAF   Insolation                   0.167  \n",
       "            SOLIN_CERES        Insolation                   1.226  \n",
       "            CLDTOT_ISCCP       Total cloud cover           11.323  \n",
       "            CLDTOT_CLOUDSAT    Total cloud cover            9.731  \n",
       "            FLDS_ISCCP         LW down SRF                 14.450  \n",
       "            FLNS_ISCCP         LW net SRF                  11.967  \n",
       "            FLUT_CERES-EBAF    LW up Top                    6.855  \n",
       "            FLUT_CERES         LW up Top                    6.770  \n",
       "            FLUT_ERBE          LW up Top                    7.887  \n",
       "            FLUTC_CERES-EBAF   LW up Top Clearsky           6.042  \n",
       "            FLUTC_CERES        LW up Top Clearsky           8.384  \n",
       "            FLUTC_ERBE         LW up Top Clearsky           5.725  \n",
       "            FLNT_CAM           LW net Top                     NaN  \n",
       "            FSDS_ISCCP         SW down SRF                 13.380  \n",
       "            FSNS_ISCCP         SW net SRF                  12.711  \n",
       "            FSNS_LARYEA        SW net SRF                  36.124  \n",
       "            FSNTOA_CERES-EBAF                              10.530  \n",
       "            FSNTOA_CERES       SW net TOA                  12.307  \n",
       "            FSNTOA_ERBE        SW net TOA                  12.491  \n",
       "            FSNTOAC_CERES-EBAF                              7.845  \n",
       "            FSNTOAC_CERES      SW net TOA clearsky         18.458  \n",
       "            FSNTOAC_ERBE       SW net TOA clearsky         15.441  \n",
       "            FSNT_CAM           SW net Top                     NaN  \n",
       "            LHFLX_JRA25        Lat Heat Flux               17.176  \n",
       "            LHFLX_ERA40        Lat Heat Flux               19.019  \n",
       "            LHFLX_WHOI         Lat Heat Flux               30.655  \n",
       "...                                                           ...  \n",
       "Run4 90-120 PRECT_GPCP         Precipitation                0.975  \n",
       "            PREH2O_NVAP        Precipitable water           2.867  \n",
       "            PREH2O_AIRS        Precipitable water           6.216  \n",
       "            PREH2O_JRA25       Precipitable water           6.216  \n",
       "            PREH2O_ERAI        Precipitable water           2.674  \n",
       "            PREH2O_ERA40       Precipitable water           2.373  \n",
       "            PSL_JRA25          SeaLev pressure              1.695  \n",
       "            PSL_ERAI           SeaLev pressure              1.669  \n",
       "            SHFLX_JRA25        Sens Heat Flux              11.202  \n",
       "            SHFLX_NCEP         Sens Heat Flux              14.963  \n",
       "            SHFLX_LARYEA       Sens Heat Flux              12.064  \n",
       "            STRESS_MAG_ERS                                  0.018  \n",
       "            STRESS_MAG_LARYEA                               0.019  \n",
       "            STRESS_MAG_JRA25                                0.021  \n",
       "            SWCF_CERES-EBAF    SW Cloud Forc                9.973  \n",
       "            SWCF_CERES         SW Cloud Forc               15.210  \n",
       "            SWCF_ERBE          SW Cloud Forc               14.753  \n",
       "            AODVIS             aerosol optical depth          NaN  \n",
       "            AODDUST            dust aerosol optical depth     NaN  \n",
       "            SST_HADISST        Sea Srf Temp                 1.430  \n",
       "            SST_HADISST_PI     SST preindustrial            1.732  \n",
       "            SST_HADISST_PD     SST present day              1.411  \n",
       "            TREFHT_LEGATES     2m Temp                      3.436  \n",
       "            TREFHT_JRA25       2m Temp                      2.147  \n",
       "            TS_NCEP            2m Temp                      2.663  \n",
       "            TS_LAND_NCEP       2m Temp land                 3.944  \n",
       "            U_200_JRA25        Zonal Wind                   3.342  \n",
       "            U_200_NCEP         Zonal Wind                   3.542  \n",
       "            Z3_500_JRA25       Geop Height                  0.199  \n",
       "            Z3_500_NCEP        Geop Height                  0.187  \n",
       "\n",
       "[378 rows x 5 columns]"
      ]
     },
     "execution_count": 12,
     "metadata": {},
     "output_type": "execute_result"
    }
   ],
   "source": [
    "table = helpers.read_and_merge_all(file_list=FILES, \n",
    "                                   var_info_dict=VAR_INFO_DICT, \n",
    "                                   replace_runid_prefix=RUN_ID_PREFIX)\n",
    "\n",
    "# display the table\n",
    "table"
   ]
  },
  {
   "cell_type": "code",
   "execution_count": 13,
   "metadata": {},
   "outputs": [
    {
     "data": {
      "text/html": [
       "<div>\n",
       "<style scoped>\n",
       "    .dataframe tbody tr th:only-of-type {\n",
       "        vertical-align: middle;\n",
       "    }\n",
       "\n",
       "    .dataframe tbody tr th {\n",
       "        vertical-align: top;\n",
       "    }\n",
       "\n",
       "    .dataframe thead th {\n",
       "        text-align: right;\n",
       "    }\n",
       "</style>\n",
       "<table border=\"1\" class=\"dataframe\">\n",
       "  <thead>\n",
       "    <tr style=\"text-align: right;\">\n",
       "      <th></th>\n",
       "      <th></th>\n",
       "      <th></th>\n",
       "      <th></th>\n",
       "      <th>Model</th>\n",
       "      <th>Obs</th>\n",
       "      <th>Bias</th>\n",
       "      <th>RMSE</th>\n",
       "    </tr>\n",
       "    <tr>\n",
       "      <th>Run</th>\n",
       "      <th>Years</th>\n",
       "      <th>Variable</th>\n",
       "      <th>Description</th>\n",
       "      <th></th>\n",
       "      <th></th>\n",
       "      <th></th>\n",
       "      <th></th>\n",
       "    </tr>\n",
       "  </thead>\n",
       "  <tbody>\n",
       "    <tr>\n",
       "      <th rowspan=\"5\" valign=\"top\">Run1</th>\n",
       "      <th rowspan=\"5\" valign=\"top\">71-100</th>\n",
       "      <th>RESTOM</th>\n",
       "      <th>Top model net flux</th>\n",
       "      <td>-0.489</td>\n",
       "      <td>0.000</td>\n",
       "      <td>-0.489</td>\n",
       "      <td>NaN</td>\n",
       "    </tr>\n",
       "    <tr>\n",
       "      <th>RESSURF</th>\n",
       "      <th>SRF net flux</th>\n",
       "      <td>-0.489</td>\n",
       "      <td>0.000</td>\n",
       "      <td>-0.489</td>\n",
       "      <td>NaN</td>\n",
       "    </tr>\n",
       "    <tr>\n",
       "      <th>RESTOA_CERES-EBAF</th>\n",
       "      <th>TOA  net flux</th>\n",
       "      <td>1.529</td>\n",
       "      <td>0.992</td>\n",
       "      <td>0.537</td>\n",
       "      <td>8.842</td>\n",
       "    </tr>\n",
       "    <tr>\n",
       "      <th>RESTOA_ERBE</th>\n",
       "      <th>TOA  net flux</th>\n",
       "      <td>1.529</td>\n",
       "      <td>0.059</td>\n",
       "      <td>1.470</td>\n",
       "      <td>8.992</td>\n",
       "    </tr>\n",
       "    <tr>\n",
       "      <th>SOLIN_CERES-EBAF</th>\n",
       "      <th>Insolation</th>\n",
       "      <td>340.206</td>\n",
       "      <td>340.054</td>\n",
       "      <td>0.152</td>\n",
       "      <td>0.167</td>\n",
       "    </tr>\n",
       "  </tbody>\n",
       "</table>\n",
       "</div>"
      ],
      "text/plain": [
       "                                                    Model      Obs   Bias  \\\n",
       "Run  Years  Variable          Description                                   \n",
       "Run1 71-100 RESTOM            Top model net flux   -0.489    0.000 -0.489   \n",
       "            RESSURF           SRF net flux         -0.489    0.000 -0.489   \n",
       "            RESTOA_CERES-EBAF TOA  net flux         1.529    0.992  0.537   \n",
       "            RESTOA_ERBE       TOA  net flux         1.529    0.059  1.470   \n",
       "            SOLIN_CERES-EBAF  Insolation          340.206  340.054  0.152   \n",
       "\n",
       "                                                   RMSE  \n",
       "Run  Years  Variable          Description                \n",
       "Run1 71-100 RESTOM            Top model net flux    NaN  \n",
       "            RESSURF           SRF net flux          NaN  \n",
       "            RESTOA_CERES-EBAF TOA  net flux       8.842  \n",
       "            RESTOA_ERBE       TOA  net flux       8.992  \n",
       "            SOLIN_CERES-EBAF  Insolation          0.167  "
      ]
     },
     "execution_count": 13,
     "metadata": {},
     "output_type": "execute_result"
    }
   ],
   "source": [
    "# drop Flag column (is leftover from previous version)\n",
    "table = table.drop(columns=[\"Flag\"])\n",
    "table.head()"
   ]
  },
  {
   "cell_type": "markdown",
   "metadata": {},
   "source": [
    "#### 4.1. Applying renaming of run IDs (if applicable)"
   ]
  },
  {
   "cell_type": "code",
   "execution_count": 14,
   "metadata": {},
   "outputs": [
    {
     "data": {
      "text/html": [
       "<div>\n",
       "<style scoped>\n",
       "    .dataframe tbody tr th:only-of-type {\n",
       "        vertical-align: middle;\n",
       "    }\n",
       "\n",
       "    .dataframe tbody tr th {\n",
       "        vertical-align: top;\n",
       "    }\n",
       "\n",
       "    .dataframe thead th {\n",
       "        text-align: right;\n",
       "    }\n",
       "</style>\n",
       "<table border=\"1\" class=\"dataframe\">\n",
       "  <thead>\n",
       "    <tr style=\"text-align: right;\">\n",
       "      <th></th>\n",
       "      <th></th>\n",
       "      <th></th>\n",
       "      <th></th>\n",
       "      <th>Model</th>\n",
       "      <th>Obs</th>\n",
       "      <th>Bias</th>\n",
       "      <th>RMSE</th>\n",
       "    </tr>\n",
       "    <tr>\n",
       "      <th>Run</th>\n",
       "      <th>Years</th>\n",
       "      <th>Variable</th>\n",
       "      <th>Description</th>\n",
       "      <th></th>\n",
       "      <th></th>\n",
       "      <th></th>\n",
       "      <th></th>\n",
       "    </tr>\n",
       "  </thead>\n",
       "  <tbody>\n",
       "    <tr>\n",
       "      <th rowspan=\"5\" valign=\"top\">first</th>\n",
       "      <th rowspan=\"5\" valign=\"top\">71-100</th>\n",
       "      <th>RESTOM</th>\n",
       "      <th>Top model net flux</th>\n",
       "      <td>-0.489</td>\n",
       "      <td>0.000</td>\n",
       "      <td>-0.489</td>\n",
       "      <td>NaN</td>\n",
       "    </tr>\n",
       "    <tr>\n",
       "      <th>RESSURF</th>\n",
       "      <th>SRF net flux</th>\n",
       "      <td>-0.489</td>\n",
       "      <td>0.000</td>\n",
       "      <td>-0.489</td>\n",
       "      <td>NaN</td>\n",
       "    </tr>\n",
       "    <tr>\n",
       "      <th>RESTOA_CERES-EBAF</th>\n",
       "      <th>TOA  net flux</th>\n",
       "      <td>1.529</td>\n",
       "      <td>0.992</td>\n",
       "      <td>0.537</td>\n",
       "      <td>8.842</td>\n",
       "    </tr>\n",
       "    <tr>\n",
       "      <th>RESTOA_ERBE</th>\n",
       "      <th>TOA  net flux</th>\n",
       "      <td>1.529</td>\n",
       "      <td>0.059</td>\n",
       "      <td>1.470</td>\n",
       "      <td>8.992</td>\n",
       "    </tr>\n",
       "    <tr>\n",
       "      <th>SOLIN_CERES-EBAF</th>\n",
       "      <th>Insolation</th>\n",
       "      <td>340.206</td>\n",
       "      <td>340.054</td>\n",
       "      <td>0.152</td>\n",
       "      <td>0.167</td>\n",
       "    </tr>\n",
       "  </tbody>\n",
       "</table>\n",
       "</div>"
      ],
      "text/plain": [
       "                                                     Model      Obs   Bias  \\\n",
       "Run   Years  Variable          Description                                   \n",
       "first 71-100 RESTOM            Top model net flux   -0.489    0.000 -0.489   \n",
       "             RESSURF           SRF net flux         -0.489    0.000 -0.489   \n",
       "             RESTOA_CERES-EBAF TOA  net flux         1.529    0.992  0.537   \n",
       "             RESTOA_ERBE       TOA  net flux         1.529    0.059  1.470   \n",
       "             SOLIN_CERES-EBAF  Insolation          340.206  340.054  0.152   \n",
       "\n",
       "                                                    RMSE  \n",
       "Run   Years  Variable          Description                \n",
       "first 71-100 RESTOM            Top model net flux    NaN  \n",
       "             RESSURF           SRF net flux          NaN  \n",
       "             RESTOA_CERES-EBAF TOA  net flux       8.842  \n",
       "             RESTOA_ERBE       TOA  net flux       8.992  \n",
       "             SOLIN_CERES-EBAF  Insolation          0.167  "
      ]
     },
     "execution_count": 14,
     "metadata": {},
     "output_type": "execute_result"
    }
   ],
   "source": [
    "if RUN_IDS is not None:\n",
    "    table = helpers.rename_index_dataframe(table, level=\"Run\", new_names=RUN_IDS)\n",
    "elif RUN_ID_PREFIX is not None:\n",
    "    table = helpers.rename_index_dataframe(table, level=\"Run\", prefix=RUN_ID_PREFIX)\n",
    "\n",
    "#display table head\n",
    "table.head()"
   ]
  },
  {
   "cell_type": "markdown",
   "metadata": {
    "extensions": {
     "jupyter_dashboards": {
      "version": 1,
      "views": {
       "grid_default": {
        "col": 0,
        "height": 4,
        "hidden": false,
        "row": 73,
        "width": 12
       },
       "report_default": {
        "hidden": false
       }
      }
     }
    }
   },
   "source": [
    "### 5. Rearranging and restructuring of the imported data (REARRANGE)"
   ]
  },
  {
   "cell_type": "markdown",
   "metadata": {
    "extensions": {
     "jupyter_dashboards": {
      "version": 1,
      "views": {
       "grid_default": {
        "col": 11,
        "height": 6,
        "hidden": false,
        "row": 61,
        "width": null
       },
       "report_default": {
        "hidden": false
       }
      }
     }
    }
   },
   "source": [
    "#### 5.1. Computing RMSE relative error (GET_RMSE_REL)\n",
    "\n",
    "In the following we extract the subset containing the *RSME* information of the flagged variables for all runs in order to compute the relative error for each run based on the average *RMSE* of all runs:\n",
    "\n",
    "$$\\frac{RMSE_{Run}\\,-\\,\\overline{RMSE_{All\\,Runs}}}{\\overline{RMSE_{All\\,Runs}}}$$\n"
   ]
  },
  {
   "cell_type": "code",
   "execution_count": 15,
   "metadata": {
    "extensions": {
     "jupyter_dashboards": {
      "version": 1,
      "views": {
       "grid_default": {
        "col": 0,
        "height": 12,
        "hidden": false,
        "row": 61,
        "width": 7
       },
       "report_default": {
        "hidden": false
       }
      }
     }
    }
   },
   "outputs": [
    {
     "data": {
      "text/html": [
       "<div>\n",
       "<style scoped>\n",
       "    .dataframe tbody tr th:only-of-type {\n",
       "        vertical-align: middle;\n",
       "    }\n",
       "\n",
       "    .dataframe tbody tr th {\n",
       "        vertical-align: top;\n",
       "    }\n",
       "\n",
       "    .dataframe thead th {\n",
       "        text-align: right;\n",
       "    }\n",
       "</style>\n",
       "<table border=\"1\" class=\"dataframe\">\n",
       "  <thead>\n",
       "    <tr style=\"text-align: right;\">\n",
       "      <th></th>\n",
       "      <th></th>\n",
       "      <th></th>\n",
       "      <th></th>\n",
       "      <th>Model</th>\n",
       "      <th>Obs</th>\n",
       "      <th>Bias</th>\n",
       "      <th>RMSE</th>\n",
       "      <th>RMSE_ERR</th>\n",
       "    </tr>\n",
       "    <tr>\n",
       "      <th>Run</th>\n",
       "      <th>Years</th>\n",
       "      <th>Variable</th>\n",
       "      <th>Description</th>\n",
       "      <th></th>\n",
       "      <th></th>\n",
       "      <th></th>\n",
       "      <th></th>\n",
       "      <th></th>\n",
       "    </tr>\n",
       "  </thead>\n",
       "  <tbody>\n",
       "    <tr>\n",
       "      <th rowspan=\"5\" valign=\"top\">first</th>\n",
       "      <th rowspan=\"5\" valign=\"top\">71-100</th>\n",
       "      <th>RESTOM</th>\n",
       "      <th>Top model net flux</th>\n",
       "      <td>-0.489</td>\n",
       "      <td>0.000</td>\n",
       "      <td>-0.489</td>\n",
       "      <td>NaN</td>\n",
       "      <td>NaN</td>\n",
       "    </tr>\n",
       "    <tr>\n",
       "      <th>RESSURF</th>\n",
       "      <th>SRF net flux</th>\n",
       "      <td>-0.489</td>\n",
       "      <td>0.000</td>\n",
       "      <td>-0.489</td>\n",
       "      <td>NaN</td>\n",
       "      <td>NaN</td>\n",
       "    </tr>\n",
       "    <tr>\n",
       "      <th>RESTOA_CERES-EBAF</th>\n",
       "      <th>TOA  net flux</th>\n",
       "      <td>1.529</td>\n",
       "      <td>0.992</td>\n",
       "      <td>0.537</td>\n",
       "      <td>8.842</td>\n",
       "      <td>-0.014764</td>\n",
       "    </tr>\n",
       "    <tr>\n",
       "      <th>RESTOA_ERBE</th>\n",
       "      <th>TOA  net flux</th>\n",
       "      <td>1.529</td>\n",
       "      <td>0.059</td>\n",
       "      <td>1.470</td>\n",
       "      <td>8.992</td>\n",
       "      <td>0.007827</td>\n",
       "    </tr>\n",
       "    <tr>\n",
       "      <th>SOLIN_CERES-EBAF</th>\n",
       "      <th>Insolation</th>\n",
       "      <td>340.206</td>\n",
       "      <td>340.054</td>\n",
       "      <td>0.152</td>\n",
       "      <td>0.167</td>\n",
       "      <td>-0.552279</td>\n",
       "    </tr>\n",
       "  </tbody>\n",
       "</table>\n",
       "</div>"
      ],
      "text/plain": [
       "                                                     Model      Obs   Bias  \\\n",
       "Run   Years  Variable          Description                                   \n",
       "first 71-100 RESTOM            Top model net flux   -0.489    0.000 -0.489   \n",
       "             RESSURF           SRF net flux         -0.489    0.000 -0.489   \n",
       "             RESTOA_CERES-EBAF TOA  net flux         1.529    0.992  0.537   \n",
       "             RESTOA_ERBE       TOA  net flux         1.529    0.059  1.470   \n",
       "             SOLIN_CERES-EBAF  Insolation          340.206  340.054  0.152   \n",
       "\n",
       "                                                    RMSE  RMSE_ERR  \n",
       "Run   Years  Variable          Description                          \n",
       "first 71-100 RESTOM            Top model net flux    NaN       NaN  \n",
       "             RESSURF           SRF net flux          NaN       NaN  \n",
       "             RESTOA_CERES-EBAF TOA  net flux       8.842 -0.014764  \n",
       "             RESTOA_ERBE       TOA  net flux       8.992  0.007827  \n",
       "             SOLIN_CERES-EBAF  Insolation          0.167 -0.552279  "
      ]
     },
     "execution_count": 15,
     "metadata": {},
     "output_type": "execute_result"
    }
   ],
   "source": [
    "table = helpers.calc_and_add_relerror(table, colname=\"RMSE\", unstack_indices=RMSE_STATS)\n",
    "table.head()"
   ]
  },
  {
   "cell_type": "markdown",
   "metadata": {},
   "source": [
    "#### 5.2. Select variable group"
   ]
  },
  {
   "cell_type": "code",
   "execution_count": 16,
   "metadata": {},
   "outputs": [
    {
     "data": {
      "text/html": [
       "<div>\n",
       "<style scoped>\n",
       "    .dataframe tbody tr th:only-of-type {\n",
       "        vertical-align: middle;\n",
       "    }\n",
       "\n",
       "    .dataframe tbody tr th {\n",
       "        vertical-align: top;\n",
       "    }\n",
       "\n",
       "    .dataframe thead th {\n",
       "        text-align: right;\n",
       "    }\n",
       "</style>\n",
       "<table border=\"1\" class=\"dataframe\">\n",
       "  <thead>\n",
       "    <tr style=\"text-align: right;\">\n",
       "      <th></th>\n",
       "      <th></th>\n",
       "      <th></th>\n",
       "      <th></th>\n",
       "      <th>Model</th>\n",
       "      <th>Obs</th>\n",
       "      <th>Bias</th>\n",
       "      <th>RMSE</th>\n",
       "      <th>RMSE_ERR</th>\n",
       "    </tr>\n",
       "    <tr>\n",
       "      <th>Run</th>\n",
       "      <th>Years</th>\n",
       "      <th>Variable</th>\n",
       "      <th>Description</th>\n",
       "      <th></th>\n",
       "      <th></th>\n",
       "      <th></th>\n",
       "      <th></th>\n",
       "      <th></th>\n",
       "    </tr>\n",
       "  </thead>\n",
       "  <tbody>\n",
       "    <tr>\n",
       "      <th rowspan=\"4\" valign=\"top\">first</th>\n",
       "      <th rowspan=\"4\" valign=\"top\">71-100</th>\n",
       "      <th>RESTOM</th>\n",
       "      <th>Top model net flux</th>\n",
       "      <td>-0.489</td>\n",
       "      <td>0.000</td>\n",
       "      <td>-0.489</td>\n",
       "      <td>NaN</td>\n",
       "      <td>NaN</td>\n",
       "    </tr>\n",
       "    <tr>\n",
       "      <th>RESSURF</th>\n",
       "      <th>SRF net flux</th>\n",
       "      <td>-0.489</td>\n",
       "      <td>0.000</td>\n",
       "      <td>-0.489</td>\n",
       "      <td>NaN</td>\n",
       "      <td>NaN</td>\n",
       "    </tr>\n",
       "    <tr>\n",
       "      <th>RESTOA_CERES-EBAF</th>\n",
       "      <th>TOA  net flux</th>\n",
       "      <td>1.529</td>\n",
       "      <td>0.992</td>\n",
       "      <td>0.537</td>\n",
       "      <td>8.842</td>\n",
       "      <td>-0.014764</td>\n",
       "    </tr>\n",
       "    <tr>\n",
       "      <th>RESTOA_ERBE</th>\n",
       "      <th>TOA  net flux</th>\n",
       "      <td>1.529</td>\n",
       "      <td>0.059</td>\n",
       "      <td>1.470</td>\n",
       "      <td>8.992</td>\n",
       "      <td>0.007827</td>\n",
       "    </tr>\n",
       "    <tr>\n",
       "      <th>second</th>\n",
       "      <th>1-20</th>\n",
       "      <th>RESTOM</th>\n",
       "      <th>Top model net flux</th>\n",
       "      <td>0.987</td>\n",
       "      <td>0.000</td>\n",
       "      <td>0.987</td>\n",
       "      <td>NaN</td>\n",
       "      <td>NaN</td>\n",
       "    </tr>\n",
       "  </tbody>\n",
       "</table>\n",
       "</div>"
      ],
      "text/plain": [
       "                                                    Model    Obs   Bias  \\\n",
       "Run    Years  Variable          Description                               \n",
       "first  71-100 RESTOM            Top model net flux -0.489  0.000 -0.489   \n",
       "              RESSURF           SRF net flux       -0.489  0.000 -0.489   \n",
       "              RESTOA_CERES-EBAF TOA  net flux       1.529  0.992  0.537   \n",
       "              RESTOA_ERBE       TOA  net flux       1.529  0.059  1.470   \n",
       "second 1-20   RESTOM            Top model net flux  0.987  0.000  0.987   \n",
       "\n",
       "                                                     RMSE  RMSE_ERR  \n",
       "Run    Years  Variable          Description                          \n",
       "first  71-100 RESTOM            Top model net flux    NaN       NaN  \n",
       "              RESSURF           SRF net flux          NaN       NaN  \n",
       "              RESTOA_CERES-EBAF TOA  net flux       8.842 -0.014764  \n",
       "              RESTOA_ERBE       TOA  net flux       8.992  0.007827  \n",
       "second 1-20   RESTOM            Top model net flux    NaN       NaN  "
      ]
     },
     "execution_count": 16,
     "metadata": {},
     "output_type": "execute_result"
    }
   ],
   "source": [
    "var_groups = helpers.load_varconfig_ini(VARGROUPS_CFG)\n",
    "group = var_groups[VAR_GROUP]\n",
    "table = helpers.crop_selection_dataframe(table, group, levels=\"Variable\")\n",
    "table.head()"
   ]
  },
  {
   "cell_type": "markdown",
   "metadata": {},
   "source": [
    "#### 5.3. Add columns to index (if applicable)"
   ]
  },
  {
   "cell_type": "code",
   "execution_count": 17,
   "metadata": {},
   "outputs": [
    {
     "data": {
      "text/html": [
       "<div>\n",
       "<style scoped>\n",
       "    .dataframe tbody tr th:only-of-type {\n",
       "        vertical-align: middle;\n",
       "    }\n",
       "\n",
       "    .dataframe tbody tr th {\n",
       "        vertical-align: top;\n",
       "    }\n",
       "\n",
       "    .dataframe thead th {\n",
       "        text-align: right;\n",
       "    }\n",
       "</style>\n",
       "<table border=\"1\" class=\"dataframe\">\n",
       "  <thead>\n",
       "    <tr style=\"text-align: right;\">\n",
       "      <th></th>\n",
       "      <th></th>\n",
       "      <th></th>\n",
       "      <th></th>\n",
       "      <th></th>\n",
       "      <th>Model</th>\n",
       "      <th>Bias</th>\n",
       "      <th>RMSE</th>\n",
       "      <th>RMSE_ERR</th>\n",
       "    </tr>\n",
       "    <tr>\n",
       "      <th>Run</th>\n",
       "      <th>Years</th>\n",
       "      <th>Variable</th>\n",
       "      <th>Description</th>\n",
       "      <th>Obs</th>\n",
       "      <th></th>\n",
       "      <th></th>\n",
       "      <th></th>\n",
       "      <th></th>\n",
       "    </tr>\n",
       "  </thead>\n",
       "  <tbody>\n",
       "    <tr>\n",
       "      <th rowspan=\"4\" valign=\"top\">first</th>\n",
       "      <th rowspan=\"4\" valign=\"top\">71-100</th>\n",
       "      <th>RESTOM</th>\n",
       "      <th>Top model net flux</th>\n",
       "      <th>0.000</th>\n",
       "      <td>-0.489</td>\n",
       "      <td>-0.489</td>\n",
       "      <td>NaN</td>\n",
       "      <td>NaN</td>\n",
       "    </tr>\n",
       "    <tr>\n",
       "      <th>RESSURF</th>\n",
       "      <th>SRF net flux</th>\n",
       "      <th>0.000</th>\n",
       "      <td>-0.489</td>\n",
       "      <td>-0.489</td>\n",
       "      <td>NaN</td>\n",
       "      <td>NaN</td>\n",
       "    </tr>\n",
       "    <tr>\n",
       "      <th>RESTOA_CERES-EBAF</th>\n",
       "      <th>TOA  net flux</th>\n",
       "      <th>0.992</th>\n",
       "      <td>1.529</td>\n",
       "      <td>0.537</td>\n",
       "      <td>8.842</td>\n",
       "      <td>-0.014764</td>\n",
       "    </tr>\n",
       "    <tr>\n",
       "      <th>RESTOA_ERBE</th>\n",
       "      <th>TOA  net flux</th>\n",
       "      <th>0.059</th>\n",
       "      <td>1.529</td>\n",
       "      <td>1.470</td>\n",
       "      <td>8.992</td>\n",
       "      <td>0.007827</td>\n",
       "    </tr>\n",
       "    <tr>\n",
       "      <th>second</th>\n",
       "      <th>1-20</th>\n",
       "      <th>RESTOM</th>\n",
       "      <th>Top model net flux</th>\n",
       "      <th>0.000</th>\n",
       "      <td>0.987</td>\n",
       "      <td>0.987</td>\n",
       "      <td>NaN</td>\n",
       "      <td>NaN</td>\n",
       "    </tr>\n",
       "  </tbody>\n",
       "</table>\n",
       "</div>"
      ],
      "text/plain": [
       "                                                          Model   Bias   RMSE  \\\n",
       "Run    Years  Variable          Description        Obs                          \n",
       "first  71-100 RESTOM            Top model net flux 0.000 -0.489 -0.489    NaN   \n",
       "              RESSURF           SRF net flux       0.000 -0.489 -0.489    NaN   \n",
       "              RESTOA_CERES-EBAF TOA  net flux      0.992  1.529  0.537  8.842   \n",
       "              RESTOA_ERBE       TOA  net flux      0.059  1.529  1.470  8.992   \n",
       "second 1-20   RESTOM            Top model net flux 0.000  0.987  0.987    NaN   \n",
       "\n",
       "                                                          RMSE_ERR  \n",
       "Run    Years  Variable          Description        Obs              \n",
       "first  71-100 RESTOM            Top model net flux 0.000       NaN  \n",
       "              RESSURF           SRF net flux       0.000       NaN  \n",
       "              RESTOA_CERES-EBAF TOA  net flux      0.992 -0.014764  \n",
       "              RESTOA_ERBE       TOA  net flux      0.059  0.007827  \n",
       "second 1-20   RESTOM            Top model net flux 0.000       NaN  "
      ]
     },
     "execution_count": 17,
     "metadata": {},
     "output_type": "execute_result"
    }
   ],
   "source": [
    "for colname in ADD_TO_INDEX:\n",
    "    table = table.set_index([table.index, colname])\n",
    "table.head()"
   ]
  },
  {
   "cell_type": "markdown",
   "metadata": {},
   "source": [
    "#### Unstack table (put certain levels of multi-index from rowwise into columnwise representation)"
   ]
  },
  {
   "cell_type": "code",
   "execution_count": 18,
   "metadata": {},
   "outputs": [
    {
     "data": {
      "text/html": [
       "<div>\n",
       "<style scoped>\n",
       "    .dataframe tbody tr th:only-of-type {\n",
       "        vertical-align: middle;\n",
       "    }\n",
       "\n",
       "    .dataframe tbody tr th {\n",
       "        vertical-align: top;\n",
       "    }\n",
       "\n",
       "    .dataframe thead tr th {\n",
       "        text-align: left;\n",
       "    }\n",
       "\n",
       "    .dataframe thead tr:last-of-type th {\n",
       "        text-align: right;\n",
       "    }\n",
       "</style>\n",
       "<table border=\"1\" class=\"dataframe\">\n",
       "  <thead>\n",
       "    <tr>\n",
       "      <th></th>\n",
       "      <th></th>\n",
       "      <th></th>\n",
       "      <th colspan=\"6\" halign=\"left\">Model</th>\n",
       "      <th colspan=\"4\" halign=\"left\">Bias</th>\n",
       "      <th>...</th>\n",
       "      <th colspan=\"4\" halign=\"left\">RMSE</th>\n",
       "      <th colspan=\"6\" halign=\"left\">RMSE_ERR</th>\n",
       "    </tr>\n",
       "    <tr>\n",
       "      <th></th>\n",
       "      <th></th>\n",
       "      <th>Run</th>\n",
       "      <th>first</th>\n",
       "      <th>second</th>\n",
       "      <th colspan=\"3\" halign=\"left\">second_last</th>\n",
       "      <th>last</th>\n",
       "      <th>first</th>\n",
       "      <th>second</th>\n",
       "      <th colspan=\"2\" halign=\"left\">second_last</th>\n",
       "      <th>...</th>\n",
       "      <th colspan=\"3\" halign=\"left\">second_last</th>\n",
       "      <th>last</th>\n",
       "      <th>first</th>\n",
       "      <th>second</th>\n",
       "      <th colspan=\"3\" halign=\"left\">second_last</th>\n",
       "      <th>last</th>\n",
       "    </tr>\n",
       "    <tr>\n",
       "      <th></th>\n",
       "      <th></th>\n",
       "      <th>Years</th>\n",
       "      <th>71-100</th>\n",
       "      <th>1-20</th>\n",
       "      <th>185-215</th>\n",
       "      <th>310-340</th>\n",
       "      <th>80-110</th>\n",
       "      <th>90-120</th>\n",
       "      <th>71-100</th>\n",
       "      <th>1-20</th>\n",
       "      <th>185-215</th>\n",
       "      <th>310-340</th>\n",
       "      <th>...</th>\n",
       "      <th>185-215</th>\n",
       "      <th>310-340</th>\n",
       "      <th>80-110</th>\n",
       "      <th>90-120</th>\n",
       "      <th>71-100</th>\n",
       "      <th>1-20</th>\n",
       "      <th>185-215</th>\n",
       "      <th>310-340</th>\n",
       "      <th>80-110</th>\n",
       "      <th>90-120</th>\n",
       "    </tr>\n",
       "    <tr>\n",
       "      <th>Variable</th>\n",
       "      <th>Description</th>\n",
       "      <th>Obs</th>\n",
       "      <th></th>\n",
       "      <th></th>\n",
       "      <th></th>\n",
       "      <th></th>\n",
       "      <th></th>\n",
       "      <th></th>\n",
       "      <th></th>\n",
       "      <th></th>\n",
       "      <th></th>\n",
       "      <th></th>\n",
       "      <th></th>\n",
       "      <th></th>\n",
       "      <th></th>\n",
       "      <th></th>\n",
       "      <th></th>\n",
       "      <th></th>\n",
       "      <th></th>\n",
       "      <th></th>\n",
       "      <th></th>\n",
       "      <th></th>\n",
       "      <th></th>\n",
       "    </tr>\n",
       "  </thead>\n",
       "  <tbody>\n",
       "    <tr>\n",
       "      <th>RESSURF</th>\n",
       "      <th>SRF net flux</th>\n",
       "      <th>0.000</th>\n",
       "      <td>-0.489</td>\n",
       "      <td>0.974</td>\n",
       "      <td>0.474</td>\n",
       "      <td>0.337</td>\n",
       "      <td>0.643</td>\n",
       "      <td>-0.075</td>\n",
       "      <td>-0.489</td>\n",
       "      <td>0.974</td>\n",
       "      <td>0.474</td>\n",
       "      <td>0.337</td>\n",
       "      <td>...</td>\n",
       "      <td>NaN</td>\n",
       "      <td>NaN</td>\n",
       "      <td>NaN</td>\n",
       "      <td>NaN</td>\n",
       "      <td>NaN</td>\n",
       "      <td>NaN</td>\n",
       "      <td>NaN</td>\n",
       "      <td>NaN</td>\n",
       "      <td>NaN</td>\n",
       "      <td>NaN</td>\n",
       "    </tr>\n",
       "    <tr>\n",
       "      <th>RESTOA_CERES-EBAF</th>\n",
       "      <th>TOA  net flux</th>\n",
       "      <th>0.992</th>\n",
       "      <td>1.529</td>\n",
       "      <td>3.075</td>\n",
       "      <td>2.553</td>\n",
       "      <td>2.412</td>\n",
       "      <td>2.733</td>\n",
       "      <td>2.013</td>\n",
       "      <td>0.537</td>\n",
       "      <td>2.083</td>\n",
       "      <td>1.561</td>\n",
       "      <td>1.420</td>\n",
       "      <td>...</td>\n",
       "      <td>9.011</td>\n",
       "      <td>8.937</td>\n",
       "      <td>8.872</td>\n",
       "      <td>9.827</td>\n",
       "      <td>-0.014764</td>\n",
       "      <td>-0.068695</td>\n",
       "      <td>0.004067</td>\n",
       "      <td>-0.004179</td>\n",
       "      <td>-0.011421</td>\n",
       "      <td>0.094991</td>\n",
       "    </tr>\n",
       "    <tr>\n",
       "      <th>RESTOA_ERBE</th>\n",
       "      <th>TOA  net flux</th>\n",
       "      <th>0.059</th>\n",
       "      <td>1.529</td>\n",
       "      <td>3.075</td>\n",
       "      <td>2.553</td>\n",
       "      <td>2.412</td>\n",
       "      <td>2.733</td>\n",
       "      <td>2.013</td>\n",
       "      <td>1.470</td>\n",
       "      <td>3.017</td>\n",
       "      <td>2.494</td>\n",
       "      <td>2.353</td>\n",
       "      <td>...</td>\n",
       "      <td>8.977</td>\n",
       "      <td>8.906</td>\n",
       "      <td>8.772</td>\n",
       "      <td>9.180</td>\n",
       "      <td>0.007827</td>\n",
       "      <td>-0.024228</td>\n",
       "      <td>0.006146</td>\n",
       "      <td>-0.001812</td>\n",
       "      <td>-0.016831</td>\n",
       "      <td>0.028898</td>\n",
       "    </tr>\n",
       "    <tr>\n",
       "      <th>RESTOM</th>\n",
       "      <th>Top model net flux</th>\n",
       "      <th>0.000</th>\n",
       "      <td>-0.489</td>\n",
       "      <td>0.987</td>\n",
       "      <td>0.468</td>\n",
       "      <td>0.327</td>\n",
       "      <td>0.647</td>\n",
       "      <td>-0.075</td>\n",
       "      <td>-0.489</td>\n",
       "      <td>0.987</td>\n",
       "      <td>0.468</td>\n",
       "      <td>0.327</td>\n",
       "      <td>...</td>\n",
       "      <td>NaN</td>\n",
       "      <td>NaN</td>\n",
       "      <td>NaN</td>\n",
       "      <td>NaN</td>\n",
       "      <td>NaN</td>\n",
       "      <td>NaN</td>\n",
       "      <td>NaN</td>\n",
       "      <td>NaN</td>\n",
       "      <td>NaN</td>\n",
       "      <td>NaN</td>\n",
       "    </tr>\n",
       "  </tbody>\n",
       "</table>\n",
       "<p>4 rows × 24 columns</p>\n",
       "</div>"
      ],
      "text/plain": [
       "                                            Model                             \\\n",
       "Run                                         first second second_last           \n",
       "Years                                      71-100   1-20     185-215 310-340   \n",
       "Variable          Description        Obs                                       \n",
       "RESSURF           SRF net flux       0.000 -0.489  0.974       0.474   0.337   \n",
       "RESTOA_CERES-EBAF TOA  net flux      0.992  1.529  3.075       2.553   2.412   \n",
       "RESTOA_ERBE       TOA  net flux      0.059  1.529  3.075       2.553   2.412   \n",
       "RESTOM            Top model net flux 0.000 -0.489  0.987       0.468   0.327   \n",
       "\n",
       "                                                           Bias         \\\n",
       "Run                                                 last  first second   \n",
       "Years                                      80-110 90-120 71-100   1-20   \n",
       "Variable          Description        Obs                                 \n",
       "RESSURF           SRF net flux       0.000  0.643 -0.075 -0.489  0.974   \n",
       "RESTOA_CERES-EBAF TOA  net flux      0.992  2.733  2.013  0.537  2.083   \n",
       "RESTOA_ERBE       TOA  net flux      0.059  2.733  2.013  1.470  3.017   \n",
       "RESTOM            Top model net flux 0.000  0.647 -0.075 -0.489  0.987   \n",
       "\n",
       "                                                                  ...     \\\n",
       "Run                                        second_last            ...      \n",
       "Years                                          185-215 310-340    ...      \n",
       "Variable          Description        Obs                          ...      \n",
       "RESSURF           SRF net flux       0.000       0.474   0.337    ...      \n",
       "RESTOA_CERES-EBAF TOA  net flux      0.992       1.561   1.420    ...      \n",
       "RESTOA_ERBE       TOA  net flux      0.059       2.494   2.353    ...      \n",
       "RESTOM            Top model net flux 0.000       0.468   0.327    ...      \n",
       "\n",
       "                                                  RMSE                        \\\n",
       "Run                                        second_last                  last   \n",
       "Years                                          185-215 310-340 80-110 90-120   \n",
       "Variable          Description        Obs                                       \n",
       "RESSURF           SRF net flux       0.000         NaN     NaN    NaN    NaN   \n",
       "RESTOA_CERES-EBAF TOA  net flux      0.992       9.011   8.937  8.872  9.827   \n",
       "RESTOA_ERBE       TOA  net flux      0.059       8.977   8.906  8.772  9.180   \n",
       "RESTOM            Top model net flux 0.000         NaN     NaN    NaN    NaN   \n",
       "\n",
       "                                            RMSE_ERR                        \\\n",
       "Run                                            first    second second_last   \n",
       "Years                                         71-100      1-20     185-215   \n",
       "Variable          Description        Obs                                     \n",
       "RESSURF           SRF net flux       0.000       NaN       NaN         NaN   \n",
       "RESTOA_CERES-EBAF TOA  net flux      0.992 -0.014764 -0.068695    0.004067   \n",
       "RESTOA_ERBE       TOA  net flux      0.059  0.007827 -0.024228    0.006146   \n",
       "RESTOM            Top model net flux 0.000       NaN       NaN         NaN   \n",
       "\n",
       "                                                                          \n",
       "Run                                                                 last  \n",
       "Years                                        310-340    80-110    90-120  \n",
       "Variable          Description        Obs                                  \n",
       "RESSURF           SRF net flux       0.000       NaN       NaN       NaN  \n",
       "RESTOA_CERES-EBAF TOA  net flux      0.992 -0.004179 -0.011421  0.094991  \n",
       "RESTOA_ERBE       TOA  net flux      0.059 -0.001812 -0.016831  0.028898  \n",
       "RESTOM            Top model net flux 0.000       NaN       NaN       NaN  \n",
       "\n",
       "[4 rows x 24 columns]"
      ]
     },
     "execution_count": 18,
     "metadata": {},
     "output_type": "execute_result"
    }
   ],
   "source": [
    "table = table.unstack(UNSTACK_INDICES)\n",
    "table.head()"
   ]
  },
  {
   "cell_type": "markdown",
   "metadata": {},
   "source": [
    "Now that is it with preparations and reshaping. Our table \\\\(\\mathcal{T}\\\\) is prepared (i.e. group of variables extracted and shape optimised) and now we can extract individual columns \\\\(\\mathcal{T_{sub}}\\\\) (i.e. Bias, RMSE and RMSE_ERR) and create heatmaps of these."
   ]
  },
  {
   "cell_type": "markdown",
   "metadata": {
    "extensions": {
     "jupyter_dashboards": {
      "version": 1,
      "views": {
       "grid_default": {
        "col": 0,
        "height": 5,
        "hidden": false,
        "row": 169,
        "width": 12
       },
       "report_default": {
        "hidden": false
       }
      }
     }
    }
   },
   "source": [
    "### 6 Extract Bias, RMSE, and RMSE error \n",
    "\n",
    "Retrieving sub-tables \\\\(\\mathcal{T_{sub}}\\\\) from \\\\(\\mathcal{T}\\\\) is straight forward:"
   ]
  },
  {
   "cell_type": "code",
   "execution_count": 19,
   "metadata": {
    "extensions": {
     "jupyter_dashboards": {
      "version": 1,
      "views": {
       "grid_default": {
        "col": 0,
        "height": 16,
        "hidden": false,
        "row": 174,
        "width": 7
       },
       "report_default": {
        "hidden": false
       }
      }
     }
    }
   },
   "outputs": [
    {
     "data": {
      "text/html": [
       "<div>\n",
       "<style scoped>\n",
       "    .dataframe tbody tr th:only-of-type {\n",
       "        vertical-align: middle;\n",
       "    }\n",
       "\n",
       "    .dataframe tbody tr th {\n",
       "        vertical-align: top;\n",
       "    }\n",
       "\n",
       "    .dataframe thead tr th {\n",
       "        text-align: left;\n",
       "    }\n",
       "\n",
       "    .dataframe thead tr:last-of-type th {\n",
       "        text-align: right;\n",
       "    }\n",
       "</style>\n",
       "<table border=\"1\" class=\"dataframe\">\n",
       "  <thead>\n",
       "    <tr>\n",
       "      <th></th>\n",
       "      <th></th>\n",
       "      <th>Run</th>\n",
       "      <th>first</th>\n",
       "      <th>second</th>\n",
       "      <th colspan=\"3\" halign=\"left\">second_last</th>\n",
       "      <th>last</th>\n",
       "    </tr>\n",
       "    <tr>\n",
       "      <th></th>\n",
       "      <th></th>\n",
       "      <th>Years</th>\n",
       "      <th>71-100</th>\n",
       "      <th>1-20</th>\n",
       "      <th>185-215</th>\n",
       "      <th>310-340</th>\n",
       "      <th>80-110</th>\n",
       "      <th>90-120</th>\n",
       "    </tr>\n",
       "    <tr>\n",
       "      <th>Variable</th>\n",
       "      <th>Description</th>\n",
       "      <th>Obs</th>\n",
       "      <th></th>\n",
       "      <th></th>\n",
       "      <th></th>\n",
       "      <th></th>\n",
       "      <th></th>\n",
       "      <th></th>\n",
       "    </tr>\n",
       "  </thead>\n",
       "  <tbody>\n",
       "    <tr>\n",
       "      <th>RESSURF</th>\n",
       "      <th>SRF net flux</th>\n",
       "      <th>0.000</th>\n",
       "      <td>-0.489</td>\n",
       "      <td>0.974</td>\n",
       "      <td>0.474</td>\n",
       "      <td>0.337</td>\n",
       "      <td>0.643</td>\n",
       "      <td>-0.075</td>\n",
       "    </tr>\n",
       "    <tr>\n",
       "      <th>RESTOA_CERES-EBAF</th>\n",
       "      <th>TOA  net flux</th>\n",
       "      <th>0.992</th>\n",
       "      <td>0.537</td>\n",
       "      <td>2.083</td>\n",
       "      <td>1.561</td>\n",
       "      <td>1.420</td>\n",
       "      <td>1.741</td>\n",
       "      <td>1.021</td>\n",
       "    </tr>\n",
       "    <tr>\n",
       "      <th>RESTOA_ERBE</th>\n",
       "      <th>TOA  net flux</th>\n",
       "      <th>0.059</th>\n",
       "      <td>1.470</td>\n",
       "      <td>3.017</td>\n",
       "      <td>2.494</td>\n",
       "      <td>2.353</td>\n",
       "      <td>2.674</td>\n",
       "      <td>1.954</td>\n",
       "    </tr>\n",
       "    <tr>\n",
       "      <th>RESTOM</th>\n",
       "      <th>Top model net flux</th>\n",
       "      <th>0.000</th>\n",
       "      <td>-0.489</td>\n",
       "      <td>0.987</td>\n",
       "      <td>0.468</td>\n",
       "      <td>0.327</td>\n",
       "      <td>0.647</td>\n",
       "      <td>-0.075</td>\n",
       "    </tr>\n",
       "  </tbody>\n",
       "</table>\n",
       "</div>"
      ],
      "text/plain": [
       "Run                                         first second second_last          \\\n",
       "Years                                      71-100   1-20     185-215 310-340   \n",
       "Variable          Description        Obs                                       \n",
       "RESSURF           SRF net flux       0.000 -0.489  0.974       0.474   0.337   \n",
       "RESTOA_CERES-EBAF TOA  net flux      0.992  0.537  2.083       1.561   1.420   \n",
       "RESTOA_ERBE       TOA  net flux      0.059  1.470  3.017       2.494   2.353   \n",
       "RESTOM            Top model net flux 0.000 -0.489  0.987       0.468   0.327   \n",
       "\n",
       "Run                                                 last  \n",
       "Years                                      80-110 90-120  \n",
       "Variable          Description        Obs                  \n",
       "RESSURF           SRF net flux       0.000  0.643 -0.075  \n",
       "RESTOA_CERES-EBAF TOA  net flux      0.992  1.741  1.021  \n",
       "RESTOA_ERBE       TOA  net flux      0.059  2.674  1.954  \n",
       "RESTOM            Top model net flux 0.000  0.647 -0.075  "
      ]
     },
     "execution_count": 19,
     "metadata": {},
     "output_type": "execute_result"
    }
   ],
   "source": [
    "bias = table[\"Bias\"]\n",
    "bias"
   ]
  },
  {
   "cell_type": "code",
   "execution_count": 20,
   "metadata": {},
   "outputs": [
    {
     "data": {
      "text/html": [
       "<div>\n",
       "<style scoped>\n",
       "    .dataframe tbody tr th:only-of-type {\n",
       "        vertical-align: middle;\n",
       "    }\n",
       "\n",
       "    .dataframe tbody tr th {\n",
       "        vertical-align: top;\n",
       "    }\n",
       "\n",
       "    .dataframe thead tr th {\n",
       "        text-align: left;\n",
       "    }\n",
       "\n",
       "    .dataframe thead tr:last-of-type th {\n",
       "        text-align: right;\n",
       "    }\n",
       "</style>\n",
       "<table border=\"1\" class=\"dataframe\">\n",
       "  <thead>\n",
       "    <tr>\n",
       "      <th></th>\n",
       "      <th></th>\n",
       "      <th>Run</th>\n",
       "      <th>first</th>\n",
       "      <th>second</th>\n",
       "      <th colspan=\"3\" halign=\"left\">second_last</th>\n",
       "      <th>last</th>\n",
       "    </tr>\n",
       "    <tr>\n",
       "      <th></th>\n",
       "      <th></th>\n",
       "      <th>Years</th>\n",
       "      <th>71-100</th>\n",
       "      <th>1-20</th>\n",
       "      <th>185-215</th>\n",
       "      <th>310-340</th>\n",
       "      <th>80-110</th>\n",
       "      <th>90-120</th>\n",
       "    </tr>\n",
       "    <tr>\n",
       "      <th>Variable</th>\n",
       "      <th>Description</th>\n",
       "      <th>Obs</th>\n",
       "      <th></th>\n",
       "      <th></th>\n",
       "      <th></th>\n",
       "      <th></th>\n",
       "      <th></th>\n",
       "      <th></th>\n",
       "    </tr>\n",
       "  </thead>\n",
       "  <tbody>\n",
       "    <tr>\n",
       "      <th>RESSURF</th>\n",
       "      <th>SRF net flux</th>\n",
       "      <th>0.000</th>\n",
       "      <td>NaN</td>\n",
       "      <td>NaN</td>\n",
       "      <td>NaN</td>\n",
       "      <td>NaN</td>\n",
       "      <td>NaN</td>\n",
       "      <td>NaN</td>\n",
       "    </tr>\n",
       "    <tr>\n",
       "      <th>RESTOA_CERES-EBAF</th>\n",
       "      <th>TOA  net flux</th>\n",
       "      <th>0.992</th>\n",
       "      <td>8.842</td>\n",
       "      <td>8.358</td>\n",
       "      <td>9.011</td>\n",
       "      <td>8.937</td>\n",
       "      <td>8.872</td>\n",
       "      <td>9.827</td>\n",
       "    </tr>\n",
       "    <tr>\n",
       "      <th>RESTOA_ERBE</th>\n",
       "      <th>TOA  net flux</th>\n",
       "      <th>0.059</th>\n",
       "      <td>8.992</td>\n",
       "      <td>8.706</td>\n",
       "      <td>8.977</td>\n",
       "      <td>8.906</td>\n",
       "      <td>8.772</td>\n",
       "      <td>9.180</td>\n",
       "    </tr>\n",
       "    <tr>\n",
       "      <th>RESTOM</th>\n",
       "      <th>Top model net flux</th>\n",
       "      <th>0.000</th>\n",
       "      <td>NaN</td>\n",
       "      <td>NaN</td>\n",
       "      <td>NaN</td>\n",
       "      <td>NaN</td>\n",
       "      <td>NaN</td>\n",
       "      <td>NaN</td>\n",
       "    </tr>\n",
       "  </tbody>\n",
       "</table>\n",
       "</div>"
      ],
      "text/plain": [
       "Run                                         first second second_last          \\\n",
       "Years                                      71-100   1-20     185-215 310-340   \n",
       "Variable          Description        Obs                                       \n",
       "RESSURF           SRF net flux       0.000    NaN    NaN         NaN     NaN   \n",
       "RESTOA_CERES-EBAF TOA  net flux      0.992  8.842  8.358       9.011   8.937   \n",
       "RESTOA_ERBE       TOA  net flux      0.059  8.992  8.706       8.977   8.906   \n",
       "RESTOM            Top model net flux 0.000    NaN    NaN         NaN     NaN   \n",
       "\n",
       "Run                                                 last  \n",
       "Years                                      80-110 90-120  \n",
       "Variable          Description        Obs                  \n",
       "RESSURF           SRF net flux       0.000    NaN    NaN  \n",
       "RESTOA_CERES-EBAF TOA  net flux      0.992  8.872  9.827  \n",
       "RESTOA_ERBE       TOA  net flux      0.059  8.772  9.180  \n",
       "RESTOM            Top model net flux 0.000    NaN    NaN  "
      ]
     },
     "execution_count": 20,
     "metadata": {},
     "output_type": "execute_result"
    }
   ],
   "source": [
    "rmse = table[\"RMSE\"]\n",
    "rmse"
   ]
  },
  {
   "cell_type": "code",
   "execution_count": 21,
   "metadata": {},
   "outputs": [
    {
     "data": {
      "text/html": [
       "<div>\n",
       "<style scoped>\n",
       "    .dataframe tbody tr th:only-of-type {\n",
       "        vertical-align: middle;\n",
       "    }\n",
       "\n",
       "    .dataframe tbody tr th {\n",
       "        vertical-align: top;\n",
       "    }\n",
       "\n",
       "    .dataframe thead tr th {\n",
       "        text-align: left;\n",
       "    }\n",
       "\n",
       "    .dataframe thead tr:last-of-type th {\n",
       "        text-align: right;\n",
       "    }\n",
       "</style>\n",
       "<table border=\"1\" class=\"dataframe\">\n",
       "  <thead>\n",
       "    <tr>\n",
       "      <th></th>\n",
       "      <th></th>\n",
       "      <th>Run</th>\n",
       "      <th>first</th>\n",
       "      <th>second</th>\n",
       "      <th colspan=\"3\" halign=\"left\">second_last</th>\n",
       "      <th>last</th>\n",
       "    </tr>\n",
       "    <tr>\n",
       "      <th></th>\n",
       "      <th></th>\n",
       "      <th>Years</th>\n",
       "      <th>71-100</th>\n",
       "      <th>1-20</th>\n",
       "      <th>185-215</th>\n",
       "      <th>310-340</th>\n",
       "      <th>80-110</th>\n",
       "      <th>90-120</th>\n",
       "    </tr>\n",
       "    <tr>\n",
       "      <th>Variable</th>\n",
       "      <th>Description</th>\n",
       "      <th>Obs</th>\n",
       "      <th></th>\n",
       "      <th></th>\n",
       "      <th></th>\n",
       "      <th></th>\n",
       "      <th></th>\n",
       "      <th></th>\n",
       "    </tr>\n",
       "  </thead>\n",
       "  <tbody>\n",
       "    <tr>\n",
       "      <th>RESSURF</th>\n",
       "      <th>SRF net flux</th>\n",
       "      <th>0.000</th>\n",
       "      <td>NaN</td>\n",
       "      <td>NaN</td>\n",
       "      <td>NaN</td>\n",
       "      <td>NaN</td>\n",
       "      <td>NaN</td>\n",
       "      <td>NaN</td>\n",
       "    </tr>\n",
       "    <tr>\n",
       "      <th>RESTOA_CERES-EBAF</th>\n",
       "      <th>TOA  net flux</th>\n",
       "      <th>0.992</th>\n",
       "      <td>-0.014764</td>\n",
       "      <td>-0.068695</td>\n",
       "      <td>0.004067</td>\n",
       "      <td>-0.004179</td>\n",
       "      <td>-0.011421</td>\n",
       "      <td>0.094991</td>\n",
       "    </tr>\n",
       "    <tr>\n",
       "      <th>RESTOA_ERBE</th>\n",
       "      <th>TOA  net flux</th>\n",
       "      <th>0.059</th>\n",
       "      <td>0.007827</td>\n",
       "      <td>-0.024228</td>\n",
       "      <td>0.006146</td>\n",
       "      <td>-0.001812</td>\n",
       "      <td>-0.016831</td>\n",
       "      <td>0.028898</td>\n",
       "    </tr>\n",
       "    <tr>\n",
       "      <th>RESTOM</th>\n",
       "      <th>Top model net flux</th>\n",
       "      <th>0.000</th>\n",
       "      <td>NaN</td>\n",
       "      <td>NaN</td>\n",
       "      <td>NaN</td>\n",
       "      <td>NaN</td>\n",
       "      <td>NaN</td>\n",
       "      <td>NaN</td>\n",
       "    </tr>\n",
       "  </tbody>\n",
       "</table>\n",
       "</div>"
      ],
      "text/plain": [
       "Run                                            first    second second_last  \\\n",
       "Years                                         71-100      1-20     185-215   \n",
       "Variable          Description        Obs                                     \n",
       "RESSURF           SRF net flux       0.000       NaN       NaN         NaN   \n",
       "RESTOA_CERES-EBAF TOA  net flux      0.992 -0.014764 -0.068695    0.004067   \n",
       "RESTOA_ERBE       TOA  net flux      0.059  0.007827 -0.024228    0.006146   \n",
       "RESTOM            Top model net flux 0.000       NaN       NaN         NaN   \n",
       "\n",
       "Run                                                                 last  \n",
       "Years                                        310-340    80-110    90-120  \n",
       "Variable          Description        Obs                                  \n",
       "RESSURF           SRF net flux       0.000       NaN       NaN       NaN  \n",
       "RESTOA_CERES-EBAF TOA  net flux      0.992 -0.004179 -0.011421  0.094991  \n",
       "RESTOA_ERBE       TOA  net flux      0.059 -0.001812 -0.016831  0.028898  \n",
       "RESTOM            Top model net flux 0.000       NaN       NaN       NaN  "
      ]
     },
     "execution_count": 21,
     "metadata": {},
     "output_type": "execute_result"
    }
   ],
   "source": [
    "rmse_err = table[\"RMSE_ERR\"]\n",
    "rmse_err"
   ]
  },
  {
   "cell_type": "markdown",
   "metadata": {},
   "source": [
    "#### 6.1 HTML preview using pandas styling options (DISP_HTML_NOSAVE)\n",
    "\n",
    "Use [pandas styling options](https://pandas.pydata.org/pandas-docs/stable/style.html) to render color formatted table preview. Gets us a nice preview, problem is, however, that it cannot be exported as png, pdf, etc. out of the box.\n",
    "\n",
    "In the following, we use a custom display method `my_table_display` (that is defined in [helper_funcs.py](https://github.com/jgliss/my_py3_scripts/blob/master/notebooks/helper_funcs.py)) in order to perform colour formatting considering all rows and columns at the same time and furthermore, using a diverging colour map that is dynamically shifted such that value 0 corresponds to the colour white (method `shifted_color_map`) also if `-vmin != vmax` (like usually)."
   ]
  },
  {
   "cell_type": "code",
   "execution_count": 22,
   "metadata": {
    "extensions": {
     "jupyter_dashboards": {
      "version": 1,
      "views": {
       "grid_default": {
        "col": 0,
        "height": 16,
        "hidden": false,
        "row": 368,
        "width": 7
       },
       "report_default": {
        "hidden": false
       }
      }
     }
    }
   },
   "outputs": [
    {
     "data": {
      "text/html": [
       "<style  type=\"text/css\" >\n",
       "    #T_706720dc_753a_11e8_ad89_80ce6220aa9erow0_col0 {\n",
       "            background-color:  #c9c9ff;\n",
       "            : ;\n",
       "        }    #T_706720dc_753a_11e8_ad89_80ce6220aa9erow0_col1 {\n",
       "            background-color:  #ffcaca;\n",
       "            : ;\n",
       "        }    #T_706720dc_753a_11e8_ad89_80ce6220aa9erow0_col2 {\n",
       "            background-color:  #ffe4e4;\n",
       "            : ;\n",
       "        }    #T_706720dc_753a_11e8_ad89_80ce6220aa9erow0_col3 {\n",
       "            background-color:  #ffecec;\n",
       "            : ;\n",
       "        }    #T_706720dc_753a_11e8_ad89_80ce6220aa9erow0_col4 {\n",
       "            background-color:  #ffdbdb;\n",
       "            : ;\n",
       "        }    #T_706720dc_753a_11e8_ad89_80ce6220aa9erow0_col5 {\n",
       "            background-color:  #f8f8ff;\n",
       "            : ;\n",
       "        }    #T_706720dc_753a_11e8_ad89_80ce6220aa9erow1_col0 {\n",
       "            background-color:  #ffe1e1;\n",
       "            : ;\n",
       "        }    #T_706720dc_753a_11e8_ad89_80ce6220aa9erow1_col1 {\n",
       "            background-color:  #ff8f8f;\n",
       "            : ;\n",
       "        }    #T_706720dc_753a_11e8_ad89_80ce6220aa9erow1_col2 {\n",
       "            background-color:  #ffabab;\n",
       "            : ;\n",
       "        }    #T_706720dc_753a_11e8_ad89_80ce6220aa9erow1_col3 {\n",
       "            background-color:  #ffb2b2;\n",
       "            : ;\n",
       "        }    #T_706720dc_753a_11e8_ad89_80ce6220aa9erow1_col4 {\n",
       "            background-color:  #ffa0a0;\n",
       "            : ;\n",
       "        }    #T_706720dc_753a_11e8_ad89_80ce6220aa9erow1_col5 {\n",
       "            background-color:  #ffc7c7;\n",
       "            : ;\n",
       "        }    #T_706720dc_753a_11e8_ad89_80ce6220aa9erow2_col0 {\n",
       "            background-color:  #ffafaf;\n",
       "            : ;\n",
       "        }    #T_706720dc_753a_11e8_ad89_80ce6220aa9erow2_col1 {\n",
       "            background-color:  #ff5b5b;\n",
       "            : ;\n",
       "        }    #T_706720dc_753a_11e8_ad89_80ce6220aa9erow2_col2 {\n",
       "            background-color:  #ff7878;\n",
       "            : ;\n",
       "        }    #T_706720dc_753a_11e8_ad89_80ce6220aa9erow2_col3 {\n",
       "            background-color:  #ff8080;\n",
       "            : ;\n",
       "        }    #T_706720dc_753a_11e8_ad89_80ce6220aa9erow2_col4 {\n",
       "            background-color:  #ff6e6e;\n",
       "            : ;\n",
       "        }    #T_706720dc_753a_11e8_ad89_80ce6220aa9erow2_col5 {\n",
       "            background-color:  #ff9595;\n",
       "            : ;\n",
       "        }    #T_706720dc_753a_11e8_ad89_80ce6220aa9erow3_col0 {\n",
       "            background-color:  #c9c9ff;\n",
       "            : ;\n",
       "        }    #T_706720dc_753a_11e8_ad89_80ce6220aa9erow3_col1 {\n",
       "            background-color:  #ffcaca;\n",
       "            : ;\n",
       "        }    #T_706720dc_753a_11e8_ad89_80ce6220aa9erow3_col2 {\n",
       "            background-color:  #ffe6e6;\n",
       "            : ;\n",
       "        }    #T_706720dc_753a_11e8_ad89_80ce6220aa9erow3_col3 {\n",
       "            background-color:  #ffeded;\n",
       "            : ;\n",
       "        }    #T_706720dc_753a_11e8_ad89_80ce6220aa9erow3_col4 {\n",
       "            background-color:  #ffdbdb;\n",
       "            : ;\n",
       "        }    #T_706720dc_753a_11e8_ad89_80ce6220aa9erow3_col5 {\n",
       "            background-color:  #f8f8ff;\n",
       "            : ;\n",
       "        }</style>  \n",
       "<table id=\"T_706720dc_753a_11e8_ad89_80ce6220aa9e\" > \n",
       "<thead>    <tr> \n",
       "        <th class=\"blank\" ></th> \n",
       "        <th class=\"blank\" ></th> \n",
       "        <th class=\"index_name level0\" >Run</th> \n",
       "        <th class=\"col_heading level0 col0\" >first</th> \n",
       "        <th class=\"col_heading level0 col1\" >second</th> \n",
       "        <th class=\"col_heading level0 col2\" colspan=3>second_last</th> \n",
       "        <th class=\"col_heading level0 col5\" >last</th> \n",
       "    </tr>    <tr> \n",
       "        <th class=\"blank\" ></th> \n",
       "        <th class=\"blank\" ></th> \n",
       "        <th class=\"index_name level1\" >Years</th> \n",
       "        <th class=\"col_heading level1 col0\" >71-100</th> \n",
       "        <th class=\"col_heading level1 col1\" >1-20</th> \n",
       "        <th class=\"col_heading level1 col2\" >185-215</th> \n",
       "        <th class=\"col_heading level1 col3\" >310-340</th> \n",
       "        <th class=\"col_heading level1 col4\" >80-110</th> \n",
       "        <th class=\"col_heading level1 col5\" >90-120</th> \n",
       "    </tr>    <tr> \n",
       "        <th class=\"index_name level0\" >Variable</th> \n",
       "        <th class=\"index_name level1\" >Description</th> \n",
       "        <th class=\"index_name level2\" >Obs</th> \n",
       "        <th class=\"blank\" ></th> \n",
       "        <th class=\"blank\" ></th> \n",
       "        <th class=\"blank\" ></th> \n",
       "        <th class=\"blank\" ></th> \n",
       "        <th class=\"blank\" ></th> \n",
       "        <th class=\"blank\" ></th> \n",
       "    </tr></thead> \n",
       "<tbody>    <tr> \n",
       "        <th id=\"T_706720dc_753a_11e8_ad89_80ce6220aa9elevel0_row0\" class=\"row_heading level0 row0\" >RESSURF</th> \n",
       "        <th id=\"T_706720dc_753a_11e8_ad89_80ce6220aa9elevel1_row0\" class=\"row_heading level1 row0\" >SRF net flux</th> \n",
       "        <th id=\"T_706720dc_753a_11e8_ad89_80ce6220aa9elevel2_row0\" class=\"row_heading level2 row0\" >0.0</th> \n",
       "        <td id=\"T_706720dc_753a_11e8_ad89_80ce6220aa9erow0_col0\" class=\"data row0 col0\" >-0.49</td> \n",
       "        <td id=\"T_706720dc_753a_11e8_ad89_80ce6220aa9erow0_col1\" class=\"data row0 col1\" >0.97</td> \n",
       "        <td id=\"T_706720dc_753a_11e8_ad89_80ce6220aa9erow0_col2\" class=\"data row0 col2\" >0.47</td> \n",
       "        <td id=\"T_706720dc_753a_11e8_ad89_80ce6220aa9erow0_col3\" class=\"data row0 col3\" >0.34</td> \n",
       "        <td id=\"T_706720dc_753a_11e8_ad89_80ce6220aa9erow0_col4\" class=\"data row0 col4\" >0.64</td> \n",
       "        <td id=\"T_706720dc_753a_11e8_ad89_80ce6220aa9erow0_col5\" class=\"data row0 col5\" >-0.07</td> \n",
       "    </tr>    <tr> \n",
       "        <th id=\"T_706720dc_753a_11e8_ad89_80ce6220aa9elevel0_row1\" class=\"row_heading level0 row1\" >RESTOA_CERES-EBAF</th> \n",
       "        <th id=\"T_706720dc_753a_11e8_ad89_80ce6220aa9elevel1_row1\" class=\"row_heading level1 row1\" >TOA  net flux</th> \n",
       "        <th id=\"T_706720dc_753a_11e8_ad89_80ce6220aa9elevel2_row1\" class=\"row_heading level2 row1\" >0.992</th> \n",
       "        <td id=\"T_706720dc_753a_11e8_ad89_80ce6220aa9erow1_col0\" class=\"data row1 col0\" >0.54</td> \n",
       "        <td id=\"T_706720dc_753a_11e8_ad89_80ce6220aa9erow1_col1\" class=\"data row1 col1\" >2.08</td> \n",
       "        <td id=\"T_706720dc_753a_11e8_ad89_80ce6220aa9erow1_col2\" class=\"data row1 col2\" >1.56</td> \n",
       "        <td id=\"T_706720dc_753a_11e8_ad89_80ce6220aa9erow1_col3\" class=\"data row1 col3\" >1.42</td> \n",
       "        <td id=\"T_706720dc_753a_11e8_ad89_80ce6220aa9erow1_col4\" class=\"data row1 col4\" >1.74</td> \n",
       "        <td id=\"T_706720dc_753a_11e8_ad89_80ce6220aa9erow1_col5\" class=\"data row1 col5\" >1.02</td> \n",
       "    </tr>    <tr> \n",
       "        <th id=\"T_706720dc_753a_11e8_ad89_80ce6220aa9elevel0_row2\" class=\"row_heading level0 row2\" >RESTOA_ERBE</th> \n",
       "        <th id=\"T_706720dc_753a_11e8_ad89_80ce6220aa9elevel1_row2\" class=\"row_heading level1 row2\" >TOA  net flux</th> \n",
       "        <th id=\"T_706720dc_753a_11e8_ad89_80ce6220aa9elevel2_row2\" class=\"row_heading level2 row2\" >0.059</th> \n",
       "        <td id=\"T_706720dc_753a_11e8_ad89_80ce6220aa9erow2_col0\" class=\"data row2 col0\" >1.47</td> \n",
       "        <td id=\"T_706720dc_753a_11e8_ad89_80ce6220aa9erow2_col1\" class=\"data row2 col1\" >3.02</td> \n",
       "        <td id=\"T_706720dc_753a_11e8_ad89_80ce6220aa9erow2_col2\" class=\"data row2 col2\" >2.49</td> \n",
       "        <td id=\"T_706720dc_753a_11e8_ad89_80ce6220aa9erow2_col3\" class=\"data row2 col3\" >2.35</td> \n",
       "        <td id=\"T_706720dc_753a_11e8_ad89_80ce6220aa9erow2_col4\" class=\"data row2 col4\" >2.67</td> \n",
       "        <td id=\"T_706720dc_753a_11e8_ad89_80ce6220aa9erow2_col5\" class=\"data row2 col5\" >1.95</td> \n",
       "    </tr>    <tr> \n",
       "        <th id=\"T_706720dc_753a_11e8_ad89_80ce6220aa9elevel0_row3\" class=\"row_heading level0 row3\" >RESTOM</th> \n",
       "        <th id=\"T_706720dc_753a_11e8_ad89_80ce6220aa9elevel1_row3\" class=\"row_heading level1 row3\" >Top model net flux</th> \n",
       "        <th id=\"T_706720dc_753a_11e8_ad89_80ce6220aa9elevel2_row3\" class=\"row_heading level2 row3\" >0.0</th> \n",
       "        <td id=\"T_706720dc_753a_11e8_ad89_80ce6220aa9erow3_col0\" class=\"data row3 col0\" >-0.49</td> \n",
       "        <td id=\"T_706720dc_753a_11e8_ad89_80ce6220aa9erow3_col1\" class=\"data row3 col1\" >0.99</td> \n",
       "        <td id=\"T_706720dc_753a_11e8_ad89_80ce6220aa9erow3_col2\" class=\"data row3 col2\" >0.47</td> \n",
       "        <td id=\"T_706720dc_753a_11e8_ad89_80ce6220aa9erow3_col3\" class=\"data row3 col3\" >0.33</td> \n",
       "        <td id=\"T_706720dc_753a_11e8_ad89_80ce6220aa9erow3_col4\" class=\"data row3 col4\" >0.65</td> \n",
       "        <td id=\"T_706720dc_753a_11e8_ad89_80ce6220aa9erow3_col5\" class=\"data row3 col5\" >-0.07</td> \n",
       "    </tr></tbody> \n",
       "</table> "
      ],
      "text/plain": [
       "<pandas.io.formats.style.Styler at 0x7f01025603c8>"
      ]
     },
     "execution_count": 22,
     "metadata": {},
     "output_type": "execute_result"
    }
   ],
   "source": [
    "helpers.my_table_display(bias)"
   ]
  },
  {
   "cell_type": "code",
   "execution_count": 23,
   "metadata": {},
   "outputs": [
    {
     "data": {
      "text/html": [
       "<style  type=\"text/css\" >\n",
       "    #T_70850002_753a_11e8_ad89_80ce6220aa9erow0_col0 {\n",
       "            background-color:  #0000ff;\n",
       "            background-color:  white;\n",
       "        }    #T_70850002_753a_11e8_ad89_80ce6220aa9erow0_col1 {\n",
       "            background-color:  #0000ff;\n",
       "            background-color:  white;\n",
       "        }    #T_70850002_753a_11e8_ad89_80ce6220aa9erow0_col2 {\n",
       "            background-color:  #0000ff;\n",
       "            background-color:  white;\n",
       "        }    #T_70850002_753a_11e8_ad89_80ce6220aa9erow0_col3 {\n",
       "            background-color:  #0000ff;\n",
       "            background-color:  white;\n",
       "        }    #T_70850002_753a_11e8_ad89_80ce6220aa9erow0_col4 {\n",
       "            background-color:  #0000ff;\n",
       "            background-color:  white;\n",
       "        }    #T_70850002_753a_11e8_ad89_80ce6220aa9erow0_col5 {\n",
       "            background-color:  #0000ff;\n",
       "            background-color:  white;\n",
       "        }    #T_70850002_753a_11e8_ad89_80ce6220aa9erow1_col0 {\n",
       "            background-color:  #fefeff;\n",
       "            : ;\n",
       "        }    #T_70850002_753a_11e8_ad89_80ce6220aa9erow1_col1 {\n",
       "            background-color:  #9999ff;\n",
       "            : ;\n",
       "        }    #T_70850002_753a_11e8_ad89_80ce6220aa9erow1_col2 {\n",
       "            background-color:  #ffe7e7;\n",
       "            : ;\n",
       "        }    #T_70850002_753a_11e8_ad89_80ce6220aa9erow1_col3 {\n",
       "            background-color:  #fff2f2;\n",
       "            : ;\n",
       "        }    #T_70850002_753a_11e8_ad89_80ce6220aa9erow1_col4 {\n",
       "            background-color:  #fffcfc;\n",
       "            : ;\n",
       "        }    #T_70850002_753a_11e8_ad89_80ce6220aa9erow1_col5 {\n",
       "            background-color:  #ff6b6b;\n",
       "            : ;\n",
       "        }    #T_70850002_753a_11e8_ad89_80ce6220aa9erow2_col0 {\n",
       "            background-color:  #ffe9e9;\n",
       "            : ;\n",
       "        }    #T_70850002_753a_11e8_ad89_80ce6220aa9erow2_col1 {\n",
       "            background-color:  #e1e1ff;\n",
       "            : ;\n",
       "        }    #T_70850002_753a_11e8_ad89_80ce6220aa9erow2_col2 {\n",
       "            background-color:  #ffeded;\n",
       "            : ;\n",
       "        }    #T_70850002_753a_11e8_ad89_80ce6220aa9erow2_col3 {\n",
       "            background-color:  #fff7f7;\n",
       "            : ;\n",
       "        }    #T_70850002_753a_11e8_ad89_80ce6220aa9erow2_col4 {\n",
       "            background-color:  #efefff;\n",
       "            : ;\n",
       "        }    #T_70850002_753a_11e8_ad89_80ce6220aa9erow2_col5 {\n",
       "            background-color:  #ffcdcd;\n",
       "            : ;\n",
       "        }    #T_70850002_753a_11e8_ad89_80ce6220aa9erow3_col0 {\n",
       "            background-color:  #0000ff;\n",
       "            background-color:  white;\n",
       "        }    #T_70850002_753a_11e8_ad89_80ce6220aa9erow3_col1 {\n",
       "            background-color:  #0000ff;\n",
       "            background-color:  white;\n",
       "        }    #T_70850002_753a_11e8_ad89_80ce6220aa9erow3_col2 {\n",
       "            background-color:  #0000ff;\n",
       "            background-color:  white;\n",
       "        }    #T_70850002_753a_11e8_ad89_80ce6220aa9erow3_col3 {\n",
       "            background-color:  #0000ff;\n",
       "            background-color:  white;\n",
       "        }    #T_70850002_753a_11e8_ad89_80ce6220aa9erow3_col4 {\n",
       "            background-color:  #0000ff;\n",
       "            background-color:  white;\n",
       "        }    #T_70850002_753a_11e8_ad89_80ce6220aa9erow3_col5 {\n",
       "            background-color:  #0000ff;\n",
       "            background-color:  white;\n",
       "        }</style>  \n",
       "<table id=\"T_70850002_753a_11e8_ad89_80ce6220aa9e\" > \n",
       "<thead>    <tr> \n",
       "        <th class=\"blank\" ></th> \n",
       "        <th class=\"blank\" ></th> \n",
       "        <th class=\"index_name level0\" >Run</th> \n",
       "        <th class=\"col_heading level0 col0\" >first</th> \n",
       "        <th class=\"col_heading level0 col1\" >second</th> \n",
       "        <th class=\"col_heading level0 col2\" colspan=3>second_last</th> \n",
       "        <th class=\"col_heading level0 col5\" >last</th> \n",
       "    </tr>    <tr> \n",
       "        <th class=\"blank\" ></th> \n",
       "        <th class=\"blank\" ></th> \n",
       "        <th class=\"index_name level1\" >Years</th> \n",
       "        <th class=\"col_heading level1 col0\" >71-100</th> \n",
       "        <th class=\"col_heading level1 col1\" >1-20</th> \n",
       "        <th class=\"col_heading level1 col2\" >185-215</th> \n",
       "        <th class=\"col_heading level1 col3\" >310-340</th> \n",
       "        <th class=\"col_heading level1 col4\" >80-110</th> \n",
       "        <th class=\"col_heading level1 col5\" >90-120</th> \n",
       "    </tr>    <tr> \n",
       "        <th class=\"index_name level0\" >Variable</th> \n",
       "        <th class=\"index_name level1\" >Description</th> \n",
       "        <th class=\"index_name level2\" >Obs</th> \n",
       "        <th class=\"blank\" ></th> \n",
       "        <th class=\"blank\" ></th> \n",
       "        <th class=\"blank\" ></th> \n",
       "        <th class=\"blank\" ></th> \n",
       "        <th class=\"blank\" ></th> \n",
       "        <th class=\"blank\" ></th> \n",
       "    </tr></thead> \n",
       "<tbody>    <tr> \n",
       "        <th id=\"T_70850002_753a_11e8_ad89_80ce6220aa9elevel0_row0\" class=\"row_heading level0 row0\" >RESSURF</th> \n",
       "        <th id=\"T_70850002_753a_11e8_ad89_80ce6220aa9elevel1_row0\" class=\"row_heading level1 row0\" >SRF net flux</th> \n",
       "        <th id=\"T_70850002_753a_11e8_ad89_80ce6220aa9elevel2_row0\" class=\"row_heading level2 row0\" >0.0</th> \n",
       "        <td id=\"T_70850002_753a_11e8_ad89_80ce6220aa9erow0_col0\" class=\"data row0 col0\" >nan</td> \n",
       "        <td id=\"T_70850002_753a_11e8_ad89_80ce6220aa9erow0_col1\" class=\"data row0 col1\" >nan</td> \n",
       "        <td id=\"T_70850002_753a_11e8_ad89_80ce6220aa9erow0_col2\" class=\"data row0 col2\" >nan</td> \n",
       "        <td id=\"T_70850002_753a_11e8_ad89_80ce6220aa9erow0_col3\" class=\"data row0 col3\" >nan</td> \n",
       "        <td id=\"T_70850002_753a_11e8_ad89_80ce6220aa9erow0_col4\" class=\"data row0 col4\" >nan</td> \n",
       "        <td id=\"T_70850002_753a_11e8_ad89_80ce6220aa9erow0_col5\" class=\"data row0 col5\" >nan</td> \n",
       "    </tr>    <tr> \n",
       "        <th id=\"T_70850002_753a_11e8_ad89_80ce6220aa9elevel0_row1\" class=\"row_heading level0 row1\" >RESTOA_CERES-EBAF</th> \n",
       "        <th id=\"T_70850002_753a_11e8_ad89_80ce6220aa9elevel1_row1\" class=\"row_heading level1 row1\" >TOA  net flux</th> \n",
       "        <th id=\"T_70850002_753a_11e8_ad89_80ce6220aa9elevel2_row1\" class=\"row_heading level2 row1\" >0.992</th> \n",
       "        <td id=\"T_70850002_753a_11e8_ad89_80ce6220aa9erow1_col0\" class=\"data row1 col0\" >8.84</td> \n",
       "        <td id=\"T_70850002_753a_11e8_ad89_80ce6220aa9erow1_col1\" class=\"data row1 col1\" >8.36</td> \n",
       "        <td id=\"T_70850002_753a_11e8_ad89_80ce6220aa9erow1_col2\" class=\"data row1 col2\" >9.01</td> \n",
       "        <td id=\"T_70850002_753a_11e8_ad89_80ce6220aa9erow1_col3\" class=\"data row1 col3\" >8.94</td> \n",
       "        <td id=\"T_70850002_753a_11e8_ad89_80ce6220aa9erow1_col4\" class=\"data row1 col4\" >8.87</td> \n",
       "        <td id=\"T_70850002_753a_11e8_ad89_80ce6220aa9erow1_col5\" class=\"data row1 col5\" >9.83</td> \n",
       "    </tr>    <tr> \n",
       "        <th id=\"T_70850002_753a_11e8_ad89_80ce6220aa9elevel0_row2\" class=\"row_heading level0 row2\" >RESTOA_ERBE</th> \n",
       "        <th id=\"T_70850002_753a_11e8_ad89_80ce6220aa9elevel1_row2\" class=\"row_heading level1 row2\" >TOA  net flux</th> \n",
       "        <th id=\"T_70850002_753a_11e8_ad89_80ce6220aa9elevel2_row2\" class=\"row_heading level2 row2\" >0.059</th> \n",
       "        <td id=\"T_70850002_753a_11e8_ad89_80ce6220aa9erow2_col0\" class=\"data row2 col0\" >8.99</td> \n",
       "        <td id=\"T_70850002_753a_11e8_ad89_80ce6220aa9erow2_col1\" class=\"data row2 col1\" >8.71</td> \n",
       "        <td id=\"T_70850002_753a_11e8_ad89_80ce6220aa9erow2_col2\" class=\"data row2 col2\" >8.98</td> \n",
       "        <td id=\"T_70850002_753a_11e8_ad89_80ce6220aa9erow2_col3\" class=\"data row2 col3\" >8.91</td> \n",
       "        <td id=\"T_70850002_753a_11e8_ad89_80ce6220aa9erow2_col4\" class=\"data row2 col4\" >8.77</td> \n",
       "        <td id=\"T_70850002_753a_11e8_ad89_80ce6220aa9erow2_col5\" class=\"data row2 col5\" >9.18</td> \n",
       "    </tr>    <tr> \n",
       "        <th id=\"T_70850002_753a_11e8_ad89_80ce6220aa9elevel0_row3\" class=\"row_heading level0 row3\" >RESTOM</th> \n",
       "        <th id=\"T_70850002_753a_11e8_ad89_80ce6220aa9elevel1_row3\" class=\"row_heading level1 row3\" >Top model net flux</th> \n",
       "        <th id=\"T_70850002_753a_11e8_ad89_80ce6220aa9elevel2_row3\" class=\"row_heading level2 row3\" >0.0</th> \n",
       "        <td id=\"T_70850002_753a_11e8_ad89_80ce6220aa9erow3_col0\" class=\"data row3 col0\" >nan</td> \n",
       "        <td id=\"T_70850002_753a_11e8_ad89_80ce6220aa9erow3_col1\" class=\"data row3 col1\" >nan</td> \n",
       "        <td id=\"T_70850002_753a_11e8_ad89_80ce6220aa9erow3_col2\" class=\"data row3 col2\" >nan</td> \n",
       "        <td id=\"T_70850002_753a_11e8_ad89_80ce6220aa9erow3_col3\" class=\"data row3 col3\" >nan</td> \n",
       "        <td id=\"T_70850002_753a_11e8_ad89_80ce6220aa9erow3_col4\" class=\"data row3 col4\" >nan</td> \n",
       "        <td id=\"T_70850002_753a_11e8_ad89_80ce6220aa9erow3_col5\" class=\"data row3 col5\" >nan</td> \n",
       "    </tr></tbody> \n",
       "</table> "
      ],
      "text/plain": [
       "<pandas.io.formats.style.Styler at 0x7f0102583320>"
      ]
     },
     "execution_count": 23,
     "metadata": {},
     "output_type": "execute_result"
    }
   ],
   "source": [
    "helpers.my_table_display(rmse)"
   ]
  },
  {
   "cell_type": "code",
   "execution_count": 24,
   "metadata": {},
   "outputs": [
    {
     "data": {
      "text/html": [
       "<style  type=\"text/css\" >\n",
       "    #T_70a567c0_753a_11e8_ad89_80ce6220aa9erow0_col0 {\n",
       "            background-color:  #0000ff;\n",
       "            background-color:  white;\n",
       "        }    #T_70a567c0_753a_11e8_ad89_80ce6220aa9erow0_col1 {\n",
       "            background-color:  #0000ff;\n",
       "            background-color:  white;\n",
       "        }    #T_70a567c0_753a_11e8_ad89_80ce6220aa9erow0_col2 {\n",
       "            background-color:  #0000ff;\n",
       "            background-color:  white;\n",
       "        }    #T_70a567c0_753a_11e8_ad89_80ce6220aa9erow0_col3 {\n",
       "            background-color:  #0000ff;\n",
       "            background-color:  white;\n",
       "        }    #T_70a567c0_753a_11e8_ad89_80ce6220aa9erow0_col4 {\n",
       "            background-color:  #0000ff;\n",
       "            background-color:  white;\n",
       "        }    #T_70a567c0_753a_11e8_ad89_80ce6220aa9erow0_col5 {\n",
       "            background-color:  #0000ff;\n",
       "            background-color:  white;\n",
       "        }    #T_70a567c0_753a_11e8_ad89_80ce6220aa9erow1_col0 {\n",
       "            background-color:  #e7e7ff;\n",
       "            : ;\n",
       "        }    #T_70a567c0_753a_11e8_ad89_80ce6220aa9erow1_col1 {\n",
       "            background-color:  #8c8cff;\n",
       "            : ;\n",
       "        }    #T_70a567c0_753a_11e8_ad89_80ce6220aa9erow1_col2 {\n",
       "            background-color:  #fff9f9;\n",
       "            : ;\n",
       "        }    #T_70a567c0_753a_11e8_ad89_80ce6220aa9erow1_col3 {\n",
       "            background-color:  #f9f9ff;\n",
       "            : ;\n",
       "        }    #T_70a567c0_753a_11e8_ad89_80ce6220aa9erow1_col4 {\n",
       "            background-color:  #ececff;\n",
       "            : ;\n",
       "        }    #T_70a567c0_753a_11e8_ad89_80ce6220aa9erow1_col5 {\n",
       "            background-color:  #ff7373;\n",
       "            : ;\n",
       "        }    #T_70a567c0_753a_11e8_ad89_80ce6220aa9erow2_col0 {\n",
       "            background-color:  #fff3f3;\n",
       "            : ;\n",
       "        }    #T_70a567c0_753a_11e8_ad89_80ce6220aa9erow2_col1 {\n",
       "            background-color:  #d6d6ff;\n",
       "            : ;\n",
       "        }    #T_70a567c0_753a_11e8_ad89_80ce6220aa9erow2_col2 {\n",
       "            background-color:  #fff5f5;\n",
       "            : ;\n",
       "        }    #T_70a567c0_753a_11e8_ad89_80ce6220aa9erow2_col3 {\n",
       "            background-color:  #fdfdff;\n",
       "            : ;\n",
       "        }    #T_70a567c0_753a_11e8_ad89_80ce6220aa9erow2_col4 {\n",
       "            background-color:  #e3e3ff;\n",
       "            : ;\n",
       "        }    #T_70a567c0_753a_11e8_ad89_80ce6220aa9erow2_col5 {\n",
       "            background-color:  #ffd4d4;\n",
       "            : ;\n",
       "        }    #T_70a567c0_753a_11e8_ad89_80ce6220aa9erow3_col0 {\n",
       "            background-color:  #0000ff;\n",
       "            background-color:  white;\n",
       "        }    #T_70a567c0_753a_11e8_ad89_80ce6220aa9erow3_col1 {\n",
       "            background-color:  #0000ff;\n",
       "            background-color:  white;\n",
       "        }    #T_70a567c0_753a_11e8_ad89_80ce6220aa9erow3_col2 {\n",
       "            background-color:  #0000ff;\n",
       "            background-color:  white;\n",
       "        }    #T_70a567c0_753a_11e8_ad89_80ce6220aa9erow3_col3 {\n",
       "            background-color:  #0000ff;\n",
       "            background-color:  white;\n",
       "        }    #T_70a567c0_753a_11e8_ad89_80ce6220aa9erow3_col4 {\n",
       "            background-color:  #0000ff;\n",
       "            background-color:  white;\n",
       "        }    #T_70a567c0_753a_11e8_ad89_80ce6220aa9erow3_col5 {\n",
       "            background-color:  #0000ff;\n",
       "            background-color:  white;\n",
       "        }</style>  \n",
       "<table id=\"T_70a567c0_753a_11e8_ad89_80ce6220aa9e\" > \n",
       "<thead>    <tr> \n",
       "        <th class=\"blank\" ></th> \n",
       "        <th class=\"blank\" ></th> \n",
       "        <th class=\"index_name level0\" >Run</th> \n",
       "        <th class=\"col_heading level0 col0\" >first</th> \n",
       "        <th class=\"col_heading level0 col1\" >second</th> \n",
       "        <th class=\"col_heading level0 col2\" colspan=3>second_last</th> \n",
       "        <th class=\"col_heading level0 col5\" >last</th> \n",
       "    </tr>    <tr> \n",
       "        <th class=\"blank\" ></th> \n",
       "        <th class=\"blank\" ></th> \n",
       "        <th class=\"index_name level1\" >Years</th> \n",
       "        <th class=\"col_heading level1 col0\" >71-100</th> \n",
       "        <th class=\"col_heading level1 col1\" >1-20</th> \n",
       "        <th class=\"col_heading level1 col2\" >185-215</th> \n",
       "        <th class=\"col_heading level1 col3\" >310-340</th> \n",
       "        <th class=\"col_heading level1 col4\" >80-110</th> \n",
       "        <th class=\"col_heading level1 col5\" >90-120</th> \n",
       "    </tr>    <tr> \n",
       "        <th class=\"index_name level0\" >Variable</th> \n",
       "        <th class=\"index_name level1\" >Description</th> \n",
       "        <th class=\"index_name level2\" >Obs</th> \n",
       "        <th class=\"blank\" ></th> \n",
       "        <th class=\"blank\" ></th> \n",
       "        <th class=\"blank\" ></th> \n",
       "        <th class=\"blank\" ></th> \n",
       "        <th class=\"blank\" ></th> \n",
       "        <th class=\"blank\" ></th> \n",
       "    </tr></thead> \n",
       "<tbody>    <tr> \n",
       "        <th id=\"T_70a567c0_753a_11e8_ad89_80ce6220aa9elevel0_row0\" class=\"row_heading level0 row0\" >RESSURF</th> \n",
       "        <th id=\"T_70a567c0_753a_11e8_ad89_80ce6220aa9elevel1_row0\" class=\"row_heading level1 row0\" >SRF net flux</th> \n",
       "        <th id=\"T_70a567c0_753a_11e8_ad89_80ce6220aa9elevel2_row0\" class=\"row_heading level2 row0\" >0.0</th> \n",
       "        <td id=\"T_70a567c0_753a_11e8_ad89_80ce6220aa9erow0_col0\" class=\"data row0 col0\" >nan</td> \n",
       "        <td id=\"T_70a567c0_753a_11e8_ad89_80ce6220aa9erow0_col1\" class=\"data row0 col1\" >nan</td> \n",
       "        <td id=\"T_70a567c0_753a_11e8_ad89_80ce6220aa9erow0_col2\" class=\"data row0 col2\" >nan</td> \n",
       "        <td id=\"T_70a567c0_753a_11e8_ad89_80ce6220aa9erow0_col3\" class=\"data row0 col3\" >nan</td> \n",
       "        <td id=\"T_70a567c0_753a_11e8_ad89_80ce6220aa9erow0_col4\" class=\"data row0 col4\" >nan</td> \n",
       "        <td id=\"T_70a567c0_753a_11e8_ad89_80ce6220aa9erow0_col5\" class=\"data row0 col5\" >nan</td> \n",
       "    </tr>    <tr> \n",
       "        <th id=\"T_70a567c0_753a_11e8_ad89_80ce6220aa9elevel0_row1\" class=\"row_heading level0 row1\" >RESTOA_CERES-EBAF</th> \n",
       "        <th id=\"T_70a567c0_753a_11e8_ad89_80ce6220aa9elevel1_row1\" class=\"row_heading level1 row1\" >TOA  net flux</th> \n",
       "        <th id=\"T_70a567c0_753a_11e8_ad89_80ce6220aa9elevel2_row1\" class=\"row_heading level2 row1\" >0.992</th> \n",
       "        <td id=\"T_70a567c0_753a_11e8_ad89_80ce6220aa9erow1_col0\" class=\"data row1 col0\" >-0.01</td> \n",
       "        <td id=\"T_70a567c0_753a_11e8_ad89_80ce6220aa9erow1_col1\" class=\"data row1 col1\" >-0.07</td> \n",
       "        <td id=\"T_70a567c0_753a_11e8_ad89_80ce6220aa9erow1_col2\" class=\"data row1 col2\" >0.00</td> \n",
       "        <td id=\"T_70a567c0_753a_11e8_ad89_80ce6220aa9erow1_col3\" class=\"data row1 col3\" >-0.00</td> \n",
       "        <td id=\"T_70a567c0_753a_11e8_ad89_80ce6220aa9erow1_col4\" class=\"data row1 col4\" >-0.01</td> \n",
       "        <td id=\"T_70a567c0_753a_11e8_ad89_80ce6220aa9erow1_col5\" class=\"data row1 col5\" >0.09</td> \n",
       "    </tr>    <tr> \n",
       "        <th id=\"T_70a567c0_753a_11e8_ad89_80ce6220aa9elevel0_row2\" class=\"row_heading level0 row2\" >RESTOA_ERBE</th> \n",
       "        <th id=\"T_70a567c0_753a_11e8_ad89_80ce6220aa9elevel1_row2\" class=\"row_heading level1 row2\" >TOA  net flux</th> \n",
       "        <th id=\"T_70a567c0_753a_11e8_ad89_80ce6220aa9elevel2_row2\" class=\"row_heading level2 row2\" >0.059</th> \n",
       "        <td id=\"T_70a567c0_753a_11e8_ad89_80ce6220aa9erow2_col0\" class=\"data row2 col0\" >0.01</td> \n",
       "        <td id=\"T_70a567c0_753a_11e8_ad89_80ce6220aa9erow2_col1\" class=\"data row2 col1\" >-0.02</td> \n",
       "        <td id=\"T_70a567c0_753a_11e8_ad89_80ce6220aa9erow2_col2\" class=\"data row2 col2\" >0.01</td> \n",
       "        <td id=\"T_70a567c0_753a_11e8_ad89_80ce6220aa9erow2_col3\" class=\"data row2 col3\" >-0.00</td> \n",
       "        <td id=\"T_70a567c0_753a_11e8_ad89_80ce6220aa9erow2_col4\" class=\"data row2 col4\" >-0.02</td> \n",
       "        <td id=\"T_70a567c0_753a_11e8_ad89_80ce6220aa9erow2_col5\" class=\"data row2 col5\" >0.03</td> \n",
       "    </tr>    <tr> \n",
       "        <th id=\"T_70a567c0_753a_11e8_ad89_80ce6220aa9elevel0_row3\" class=\"row_heading level0 row3\" >RESTOM</th> \n",
       "        <th id=\"T_70a567c0_753a_11e8_ad89_80ce6220aa9elevel1_row3\" class=\"row_heading level1 row3\" >Top model net flux</th> \n",
       "        <th id=\"T_70a567c0_753a_11e8_ad89_80ce6220aa9elevel2_row3\" class=\"row_heading level2 row3\" >0.0</th> \n",
       "        <td id=\"T_70a567c0_753a_11e8_ad89_80ce6220aa9erow3_col0\" class=\"data row3 col0\" >nan</td> \n",
       "        <td id=\"T_70a567c0_753a_11e8_ad89_80ce6220aa9erow3_col1\" class=\"data row3 col1\" >nan</td> \n",
       "        <td id=\"T_70a567c0_753a_11e8_ad89_80ce6220aa9erow3_col2\" class=\"data row3 col2\" >nan</td> \n",
       "        <td id=\"T_70a567c0_753a_11e8_ad89_80ce6220aa9erow3_col3\" class=\"data row3 col3\" >nan</td> \n",
       "        <td id=\"T_70a567c0_753a_11e8_ad89_80ce6220aa9erow3_col4\" class=\"data row3 col4\" >nan</td> \n",
       "        <td id=\"T_70a567c0_753a_11e8_ad89_80ce6220aa9erow3_col5\" class=\"data row3 col5\" >nan</td> \n",
       "    </tr></tbody> \n",
       "</table> "
      ],
      "text/plain": [
       "<pandas.io.formats.style.Styler at 0x7f01025838d0>"
      ]
     },
     "execution_count": 24,
     "metadata": {},
     "output_type": "execute_result"
    }
   ],
   "source": [
    "helpers.my_table_display(rmse_err)"
   ]
  },
  {
   "cell_type": "markdown",
   "metadata": {
    "extensions": {
     "jupyter_dashboards": {
      "version": 1,
      "views": {
       "grid_default": {
        "col": 0,
        "height": 8,
        "hidden": false,
        "row": 306,
        "width": 12
       },
       "report_default": {
        "hidden": false
       }
      }
     }
    }
   },
   "source": [
    "### 7. Visualisation and plotting of heatmaps (VISUALISE)\n",
    "\n",
    "This section illustrates, how we can perform conditional formatting of the color tables. This can either be performed in the browser (rendering of HTML representation of Dataframe) or by plotting them as a heatmap using the [seaborn library](https://seaborn.pydata.org/generated/seaborn.heatmap.html)."
   ]
  },
  {
   "cell_type": "markdown",
   "metadata": {},
   "source": [
    "#### 7.1. Plot and save Bias table (3 versions) \n",
    "\n",
    "The following cell plots the Bias table as is. The subsequent 2 cells produce normalised heatmaps based on rowwise mean value or based on the values in a specified column. For the latter, as an example, column 5 is used (i.e. index 4) for normalisation."
   ]
  },
  {
   "cell_type": "code",
   "execution_count": 25,
   "metadata": {
    "extensions": {
     "jupyter_dashboards": {
      "version": 1,
      "views": {
       "grid_default": {
        "col": 0,
        "height": 16,
        "hidden": false,
        "row": 368,
        "width": 7
       },
       "report_default": {
        "hidden": false
       }
      }
     }
    }
   },
   "outputs": [
    {
     "data": {
      "image/png": "[encoded data removed]",
      "text/plain": [
       "<Figure size 864x432 with 1 Axes>"
      ]
     },
     "metadata": {},
     "output_type": "display_data"
    }
   ],
   "source": [
    "ax = helpers.df_to_heatmap(bias, \n",
    "                           center=0, # table value that is mapped to the center of the colormap\n",
    "                           color_rowwise=1, #apply color mapping rowwise\n",
    "                           normalise_rows=0, # see next cell for an example\n",
    "                           table_name=\"Bias\",\n",
    "                           figsize=FIG_SIZE)\n",
    "ax.set_xlabel(\"Run\", weight=\"bold\")\n",
    "ax.set_ylabel(\"Variable\", weight=\"bold\")\n",
    "ax.figure.tight_layout()\n",
    "ax.figure.savefig(os.path.join(OUTPUT_DIR, \"bias_heatmap.png\"))"
   ]
  },
  {
   "cell_type": "markdown",
   "metadata": {},
   "source": [
    "Now the same but including a rowwise normalisation based on the mean bias in each row."
   ]
  },
  {
   "cell_type": "code",
   "execution_count": 26,
   "metadata": {
    "extensions": {
     "jupyter_dashboards": {
      "version": 1,
      "views": {
       "grid_default": {
        "col": 0,
        "height": 16,
        "hidden": false,
        "row": 368,
        "width": 7
       },
       "report_default": {
        "hidden": false
       }
      }
     }
    }
   },
   "outputs": [
    {
     "data": {
      "image/png": "[encoded data removed]",
      "text/plain": [
       "<Figure size 864x432 with 1 Axes>"
      ]
     },
     "metadata": {},
     "output_type": "display_data"
    }
   ],
   "source": [
    "ax = helpers.df_to_heatmap(bias, \n",
    "                   center=0, # table value that is mapped to the center of the colormap\n",
    "                   normalise_rows=1, # perform rowwise normalisation and plot percentage deviation from row mean\n",
    "                   table_name=\"Bias\",\n",
    "                   figsize=FIG_SIZE)\n",
    "ax.set_xlabel(\"Run\", weight=\"bold\")\n",
    "ax.set_ylabel(\"Variable\", weight=\"bold\")\n",
    "ax.figure.tight_layout()\n",
    "ax.figure.savefig(os.path.join(OUTPUT_DIR, \"bias_heatmap_deviation_rowmean.png\"))"
   ]
  },
  {
   "cell_type": "markdown",
   "metadata": {},
   "source": [
    "Now the same but including a rowwise normalisation based on the values in the 4th column."
   ]
  },
  {
   "cell_type": "code",
   "execution_count": 27,
   "metadata": {
    "extensions": {
     "jupyter_dashboards": {
      "version": 1,
      "views": {
       "grid_default": {
        "col": 0,
        "height": 16,
        "hidden": false,
        "row": 368,
        "width": 7
       },
       "report_default": {
        "hidden": false
       }
      }
     }
    }
   },
   "outputs": [
    {
     "data": {
      "image/png": "[encoded data removed]",
      "text/plain": [
       "<Figure size 864x432 with 1 Axes>"
      ]
     },
     "metadata": {},
     "output_type": "display_data"
    }
   ],
   "source": [
    "ax = helpers.df_to_heatmap(bias, \n",
    "                   center=0, # table value that is mapped to the center of the colormap\n",
    "                   normalise_rows=1, # perform rowwise normalisation and plot percentage deviation from row mean\n",
    "                   normalise_rows_col=4,\n",
    "                   table_name=\"Bias\",\n",
    "                   figsize=FIG_SIZE)\n",
    "ax.set_xlabel(\"Run\", weight=\"bold\")\n",
    "ax.set_ylabel(\"Variable\", weight=\"bold\")\n",
    "ax.figure.tight_layout()\n",
    "ax.figure.savefig(os.path.join(OUTPUT_DIR, \"bias_heatmap_deviation_rowmean.png\"))"
   ]
  },
  {
   "cell_type": "markdown",
   "metadata": {},
   "source": [
    "#### 7.2. Plot and save RMSE table (2 versions) "
   ]
  },
  {
   "cell_type": "code",
   "execution_count": 28,
   "metadata": {},
   "outputs": [
    {
     "data": {
      "image/png": "[encoded data removed]",
      "text/plain": [
       "<Figure size 864x432 with 1 Axes>"
      ]
     },
     "metadata": {},
     "output_type": "display_data"
    }
   ],
   "source": [
    "ax = helpers.df_to_heatmap(rmse, \n",
    "                   table_name=\"RMSE\",\n",
    "                   figsize=FIG_SIZE)\n",
    "ax.set_xlabel(\"Run\", weight=\"bold\")\n",
    "ax.set_ylabel(\"Variable\", weight=\"bold\")\n",
    "ax.figure.tight_layout()\n",
    "ax.figure.savefig(os.path.join(OUTPUT_DIR, \"rmse_heatmap.png\"))"
   ]
  },
  {
   "cell_type": "code",
   "execution_count": 29,
   "metadata": {
    "extensions": {
     "jupyter_dashboards": {
      "version": 1,
      "views": {
       "grid_default": {
        "col": 0,
        "height": 16,
        "hidden": false,
        "row": 368,
        "width": 7
       },
       "report_default": {
        "hidden": false
       }
      }
     }
    }
   },
   "outputs": [
    {
     "data": {
      "image/png": "[encoded data removed]",
      "text/plain": [
       "<Figure size 864x432 with 1 Axes>"
      ]
     },
     "metadata": {},
     "output_type": "display_data"
    }
   ],
   "source": [
    "ax = helpers.df_to_heatmap(rmse, \n",
    "                   center=0, # table value that is mapped to the center of the colormap\n",
    "                   normalise_rows=1, # perform rowwise normalisation and plot percentage deviation from row mean\n",
    "                   table_name=\"RMSE\",\n",
    "                   figsize=FIG_SIZE)\n",
    "ax.set_xlabel(\"Run\", weight=\"bold\")\n",
    "ax.set_ylabel(\"Variable\", weight=\"bold\")\n",
    "ax.figure.tight_layout()\n",
    "ax.figure.savefig(os.path.join(OUTPUT_DIR, \"rmse_heatmap_deviation_rowmean.png\"))"
   ]
  },
  {
   "cell_type": "markdown",
   "metadata": {},
   "source": [
    "Now the same but including a rowwise normalisation based on the values in the 4th column."
   ]
  },
  {
   "cell_type": "markdown",
   "metadata": {},
   "source": [
    "#### 7.2. Plot and save RMSE_ERR table (1 version) "
   ]
  },
  {
   "cell_type": "code",
   "execution_count": 30,
   "metadata": {
    "extensions": {
     "jupyter_dashboards": {
      "version": 1,
      "views": {
       "grid_default": {
        "col": 0,
        "height": 16,
        "hidden": false,
        "row": 384,
        "width": 7
       },
       "report_default": {
        "hidden": false
       }
      }
     }
    }
   },
   "outputs": [
    {
     "data": {
      "image/png": "[encoded data removed]",
      "text/plain": [
       "<Figure size 864x432 with 1 Axes>"
      ]
     },
     "metadata": {},
     "output_type": "display_data"
    }
   ],
   "source": [
    "ax = helpers.df_to_heatmap(rmse_err, \n",
    "                   table_name=\"RMSE (Relative Error)\",\n",
    "                   figsize=FIG_SIZE)\n",
    "ax.set_xlabel(\"Run\", weight=\"bold\")\n",
    "ax.set_ylabel(\"Variable\", weight=\"bold\")\n",
    "ax.figure.tight_layout()\n",
    "ax.figure.savefig(os.path.join(OUTPUT_DIR, \"rmse_err_heatmap.png\"))"
   ]
  },
  {
   "cell_type": "markdown",
   "metadata": {
    "extensions": {
     "jupyter_dashboards": {
      "version": 1,
      "views": {
       "grid_default": {
        "col": 0,
        "height": 4,
        "hidden": false,
        "row": 400,
        "width": 12
       },
       "report_default": {
        "hidden": false
       }
      }
     }
    }
   },
   "source": [
    "### 8. Concatenate (Bias, RMSE and typical RMSE) and save results as CSV and EXCEL\n",
    "\n",
    "In the following, the three result tables ``bias``, ``rmse`` and ``rmse_err`` are merged into one result table and then saved both as excel table and as csv file."
   ]
  },
  {
   "cell_type": "code",
   "execution_count": 31,
   "metadata": {
    "extensions": {
     "jupyter_dashboards": {
      "version": 1,
      "views": {
       "grid_default": {
        "col": 0,
        "height": 17,
        "hidden": false,
        "row": 404,
        "width": 11
       },
       "report_default": {
        "hidden": false
       }
      }
     }
    }
   },
   "outputs": [
    {
     "data": {
      "text/html": [
       "<div>\n",
       "<style scoped>\n",
       "    .dataframe tbody tr th:only-of-type {\n",
       "        vertical-align: middle;\n",
       "    }\n",
       "\n",
       "    .dataframe tbody tr th {\n",
       "        vertical-align: top;\n",
       "    }\n",
       "\n",
       "    .dataframe thead tr th {\n",
       "        text-align: left;\n",
       "    }\n",
       "\n",
       "    .dataframe thead tr:last-of-type th {\n",
       "        text-align: right;\n",
       "    }\n",
       "</style>\n",
       "<table border=\"1\" class=\"dataframe\">\n",
       "  <thead>\n",
       "    <tr>\n",
       "      <th></th>\n",
       "      <th></th>\n",
       "      <th></th>\n",
       "      <th colspan=\"6\" halign=\"left\">Bias</th>\n",
       "      <th colspan=\"6\" halign=\"left\">RMSE</th>\n",
       "      <th colspan=\"6\" halign=\"left\">RMSE_ERR</th>\n",
       "    </tr>\n",
       "    <tr>\n",
       "      <th></th>\n",
       "      <th></th>\n",
       "      <th>Run</th>\n",
       "      <th>first</th>\n",
       "      <th>second</th>\n",
       "      <th colspan=\"3\" halign=\"left\">second_last</th>\n",
       "      <th>last</th>\n",
       "      <th>first</th>\n",
       "      <th>second</th>\n",
       "      <th colspan=\"3\" halign=\"left\">second_last</th>\n",
       "      <th>last</th>\n",
       "      <th>first</th>\n",
       "      <th>second</th>\n",
       "      <th colspan=\"3\" halign=\"left\">second_last</th>\n",
       "      <th>last</th>\n",
       "    </tr>\n",
       "    <tr>\n",
       "      <th></th>\n",
       "      <th></th>\n",
       "      <th>Years</th>\n",
       "      <th>71-100</th>\n",
       "      <th>1-20</th>\n",
       "      <th>185-215</th>\n",
       "      <th>310-340</th>\n",
       "      <th>80-110</th>\n",
       "      <th>90-120</th>\n",
       "      <th>71-100</th>\n",
       "      <th>1-20</th>\n",
       "      <th>185-215</th>\n",
       "      <th>310-340</th>\n",
       "      <th>80-110</th>\n",
       "      <th>90-120</th>\n",
       "      <th>71-100</th>\n",
       "      <th>1-20</th>\n",
       "      <th>185-215</th>\n",
       "      <th>310-340</th>\n",
       "      <th>80-110</th>\n",
       "      <th>90-120</th>\n",
       "    </tr>\n",
       "    <tr>\n",
       "      <th>Variable</th>\n",
       "      <th>Description</th>\n",
       "      <th>Obs</th>\n",
       "      <th></th>\n",
       "      <th></th>\n",
       "      <th></th>\n",
       "      <th></th>\n",
       "      <th></th>\n",
       "      <th></th>\n",
       "      <th></th>\n",
       "      <th></th>\n",
       "      <th></th>\n",
       "      <th></th>\n",
       "      <th></th>\n",
       "      <th></th>\n",
       "      <th></th>\n",
       "      <th></th>\n",
       "      <th></th>\n",
       "      <th></th>\n",
       "      <th></th>\n",
       "      <th></th>\n",
       "    </tr>\n",
       "  </thead>\n",
       "  <tbody>\n",
       "    <tr>\n",
       "      <th>RESSURF</th>\n",
       "      <th>SRF net flux</th>\n",
       "      <th>0.000</th>\n",
       "      <td>-0.489</td>\n",
       "      <td>0.974</td>\n",
       "      <td>0.474</td>\n",
       "      <td>0.337</td>\n",
       "      <td>0.643</td>\n",
       "      <td>-0.075</td>\n",
       "      <td>NaN</td>\n",
       "      <td>NaN</td>\n",
       "      <td>NaN</td>\n",
       "      <td>NaN</td>\n",
       "      <td>NaN</td>\n",
       "      <td>NaN</td>\n",
       "      <td>NaN</td>\n",
       "      <td>NaN</td>\n",
       "      <td>NaN</td>\n",
       "      <td>NaN</td>\n",
       "      <td>NaN</td>\n",
       "      <td>NaN</td>\n",
       "    </tr>\n",
       "    <tr>\n",
       "      <th>RESTOA_CERES-EBAF</th>\n",
       "      <th>TOA  net flux</th>\n",
       "      <th>0.992</th>\n",
       "      <td>0.537</td>\n",
       "      <td>2.083</td>\n",
       "      <td>1.561</td>\n",
       "      <td>1.420</td>\n",
       "      <td>1.741</td>\n",
       "      <td>1.021</td>\n",
       "      <td>8.842</td>\n",
       "      <td>8.358</td>\n",
       "      <td>9.011</td>\n",
       "      <td>8.937</td>\n",
       "      <td>8.872</td>\n",
       "      <td>9.827</td>\n",
       "      <td>-0.014764</td>\n",
       "      <td>-0.068695</td>\n",
       "      <td>0.004067</td>\n",
       "      <td>-0.004179</td>\n",
       "      <td>-0.011421</td>\n",
       "      <td>0.094991</td>\n",
       "    </tr>\n",
       "    <tr>\n",
       "      <th>RESTOA_ERBE</th>\n",
       "      <th>TOA  net flux</th>\n",
       "      <th>0.059</th>\n",
       "      <td>1.470</td>\n",
       "      <td>3.017</td>\n",
       "      <td>2.494</td>\n",
       "      <td>2.353</td>\n",
       "      <td>2.674</td>\n",
       "      <td>1.954</td>\n",
       "      <td>8.992</td>\n",
       "      <td>8.706</td>\n",
       "      <td>8.977</td>\n",
       "      <td>8.906</td>\n",
       "      <td>8.772</td>\n",
       "      <td>9.180</td>\n",
       "      <td>0.007827</td>\n",
       "      <td>-0.024228</td>\n",
       "      <td>0.006146</td>\n",
       "      <td>-0.001812</td>\n",
       "      <td>-0.016831</td>\n",
       "      <td>0.028898</td>\n",
       "    </tr>\n",
       "    <tr>\n",
       "      <th>RESTOM</th>\n",
       "      <th>Top model net flux</th>\n",
       "      <th>0.000</th>\n",
       "      <td>-0.489</td>\n",
       "      <td>0.987</td>\n",
       "      <td>0.468</td>\n",
       "      <td>0.327</td>\n",
       "      <td>0.647</td>\n",
       "      <td>-0.075</td>\n",
       "      <td>NaN</td>\n",
       "      <td>NaN</td>\n",
       "      <td>NaN</td>\n",
       "      <td>NaN</td>\n",
       "      <td>NaN</td>\n",
       "      <td>NaN</td>\n",
       "      <td>NaN</td>\n",
       "      <td>NaN</td>\n",
       "      <td>NaN</td>\n",
       "      <td>NaN</td>\n",
       "      <td>NaN</td>\n",
       "      <td>NaN</td>\n",
       "    </tr>\n",
       "  </tbody>\n",
       "</table>\n",
       "</div>"
      ],
      "text/plain": [
       "                                             Bias                             \\\n",
       "Run                                         first second second_last           \n",
       "Years                                      71-100   1-20     185-215 310-340   \n",
       "Variable          Description        Obs                                       \n",
       "RESSURF           SRF net flux       0.000 -0.489  0.974       0.474   0.337   \n",
       "RESTOA_CERES-EBAF TOA  net flux      0.992  0.537  2.083       1.561   1.420   \n",
       "RESTOA_ERBE       TOA  net flux      0.059  1.470  3.017       2.494   2.353   \n",
       "RESTOM            Top model net flux 0.000 -0.489  0.987       0.468   0.327   \n",
       "\n",
       "                                                           RMSE         \\\n",
       "Run                                                 last  first second   \n",
       "Years                                      80-110 90-120 71-100   1-20   \n",
       "Variable          Description        Obs                                 \n",
       "RESSURF           SRF net flux       0.000  0.643 -0.075    NaN    NaN   \n",
       "RESTOA_CERES-EBAF TOA  net flux      0.992  1.741  1.021  8.842  8.358   \n",
       "RESTOA_ERBE       TOA  net flux      0.059  2.674  1.954  8.992  8.706   \n",
       "RESTOM            Top model net flux 0.000  0.647 -0.075    NaN    NaN   \n",
       "\n",
       "                                                                              \\\n",
       "Run                                        second_last                  last   \n",
       "Years                                          185-215 310-340 80-110 90-120   \n",
       "Variable          Description        Obs                                       \n",
       "RESSURF           SRF net flux       0.000         NaN     NaN    NaN    NaN   \n",
       "RESTOA_CERES-EBAF TOA  net flux      0.992       9.011   8.937  8.872  9.827   \n",
       "RESTOA_ERBE       TOA  net flux      0.059       8.977   8.906  8.772  9.180   \n",
       "RESTOM            Top model net flux 0.000         NaN     NaN    NaN    NaN   \n",
       "\n",
       "                                            RMSE_ERR                        \\\n",
       "Run                                            first    second second_last   \n",
       "Years                                         71-100      1-20     185-215   \n",
       "Variable          Description        Obs                                     \n",
       "RESSURF           SRF net flux       0.000       NaN       NaN         NaN   \n",
       "RESTOA_CERES-EBAF TOA  net flux      0.992 -0.014764 -0.068695    0.004067   \n",
       "RESTOA_ERBE       TOA  net flux      0.059  0.007827 -0.024228    0.006146   \n",
       "RESTOM            Top model net flux 0.000       NaN       NaN         NaN   \n",
       "\n",
       "                                                                          \n",
       "Run                                                                 last  \n",
       "Years                                        310-340    80-110    90-120  \n",
       "Variable          Description        Obs                                  \n",
       "RESSURF           SRF net flux       0.000       NaN       NaN       NaN  \n",
       "RESTOA_CERES-EBAF TOA  net flux      0.992 -0.004179 -0.011421  0.094991  \n",
       "RESTOA_ERBE       TOA  net flux      0.059 -0.001812 -0.016831  0.028898  \n",
       "RESTOM            Top model net flux 0.000       NaN       NaN       NaN  "
      ]
     },
     "execution_count": 31,
     "metadata": {},
     "output_type": "execute_result"
    }
   ],
   "source": [
    "import pandas as pd\n",
    "result = pd.concat([bias, rmse, rmse_err],axis=1, keys=[\"Bias\", \"RMSE\", \"RMSE_ERR\"])\n",
    "result.to_csv('{}/result.csv'.format(OUTPUT_DIR))\n",
    "result"
   ]
  },
  {
   "cell_type": "markdown",
   "metadata": {
    "extensions": {
     "jupyter_dashboards": {
      "version": 1,
      "views": {
       "grid_default": {
        "col": 7,
        "height": 4,
        "hidden": false,
        "row": 98,
        "width": 4
       },
       "report_default": {
        "hidden": false
       }
      }
     }
    }
   },
   "source": [
    "Now save the table as excel file."
   ]
  },
  {
   "cell_type": "code",
   "execution_count": 32,
   "metadata": {
    "extensions": {
     "jupyter_dashboards": {
      "version": 1,
      "views": {
       "grid_default": {
        "hidden": true
       },
       "report_default": {
        "hidden": true
       }
      }
     }
    }
   },
   "outputs": [],
   "source": [
    "writer = pd.ExcelWriter('{}/result.xlsx'.format(OUTPUT_DIR))\n",
    "result.to_excel(writer)\n",
    "writer.save()\n",
    "writer.close()"
   ]
  }
 ],
 "metadata": {
  "extensions": {
   "jupyter_dashboards": {
    "activeView": "grid_default",
    "version": 1,
    "views": {
     "grid_default": {
      "cellMargin": 10,
      "defaultCellHeight": 20,
      "maxColumns": 12,
      "name": "grid",
      "type": "grid"
     },
     "report_default": {
      "name": "report",
      "type": "report"
     }
    }
   }
  },
  "kernelspec": {
   "display_name": "Python 3",
   "language": "python",
   "name": "python3"
  },
  "language_info": {
   "codemirror_mode": {
    "name": "ipython",
    "version": 3
   },
   "file_extension": ".py",
   "mimetype": "text/x-python",
   "name": "python",
   "nbconvert_exporter": "python",
   "pygments_lexer": "ipython3",
   "version": "3.6.4"
  }
 },
 "nbformat": 4,
 "nbformat_minor": 2
}
